{
 "cells": [
  {
   "cell_type": "code",
   "execution_count": 1,
   "id": "f89ff4e8",
   "metadata": {},
   "outputs": [],
   "source": [
    "import scipy.stats as stats\n",
    "import statsmodels.api as sm\n",
    "import numpy as np\n",
    "import pandas as pd\n",
    "import seaborn as sns\n",
    "import matplotlib.pyplot as plt\n",
    "import warnings\n",
    "warnings.filterwarnings(\"ignore\")\n",
    "import statsmodels.formula.api as smf\n",
    "from statsmodels.graphics.regressionplots import influence_plot"
   ]
  },
  {
   "cell_type": "code",
   "execution_count": 2,
   "id": "f350be18",
   "metadata": {},
   "outputs": [],
   "source": [
    "# Load the dataset\n",
    "data = pd.read_csv('ToyotaCorolla - MLR.csv')"
   ]
  },
  {
   "cell_type": "code",
   "execution_count": 3,
   "id": "d721496a",
   "metadata": {},
   "outputs": [
    {
     "data": {
      "text/html": [
       "<div>\n",
       "<style scoped>\n",
       "    .dataframe tbody tr th:only-of-type {\n",
       "        vertical-align: middle;\n",
       "    }\n",
       "\n",
       "    .dataframe tbody tr th {\n",
       "        vertical-align: top;\n",
       "    }\n",
       "\n",
       "    .dataframe thead th {\n",
       "        text-align: right;\n",
       "    }\n",
       "</style>\n",
       "<table border=\"1\" class=\"dataframe\">\n",
       "  <thead>\n",
       "    <tr style=\"text-align: right;\">\n",
       "      <th></th>\n",
       "      <th>Price</th>\n",
       "      <th>Age_08_04</th>\n",
       "      <th>KM</th>\n",
       "      <th>Fuel_Type</th>\n",
       "      <th>HP</th>\n",
       "      <th>Automatic</th>\n",
       "      <th>cc</th>\n",
       "      <th>Doors</th>\n",
       "      <th>Cylinders</th>\n",
       "      <th>Gears</th>\n",
       "      <th>Weight</th>\n",
       "    </tr>\n",
       "  </thead>\n",
       "  <tbody>\n",
       "    <tr>\n",
       "      <th>0</th>\n",
       "      <td>13500</td>\n",
       "      <td>23</td>\n",
       "      <td>46986</td>\n",
       "      <td>Diesel</td>\n",
       "      <td>90</td>\n",
       "      <td>0</td>\n",
       "      <td>2000</td>\n",
       "      <td>3</td>\n",
       "      <td>4</td>\n",
       "      <td>5</td>\n",
       "      <td>1165</td>\n",
       "    </tr>\n",
       "    <tr>\n",
       "      <th>1</th>\n",
       "      <td>13750</td>\n",
       "      <td>23</td>\n",
       "      <td>72937</td>\n",
       "      <td>Diesel</td>\n",
       "      <td>90</td>\n",
       "      <td>0</td>\n",
       "      <td>2000</td>\n",
       "      <td>3</td>\n",
       "      <td>4</td>\n",
       "      <td>5</td>\n",
       "      <td>1165</td>\n",
       "    </tr>\n",
       "    <tr>\n",
       "      <th>2</th>\n",
       "      <td>13950</td>\n",
       "      <td>24</td>\n",
       "      <td>41711</td>\n",
       "      <td>Diesel</td>\n",
       "      <td>90</td>\n",
       "      <td>0</td>\n",
       "      <td>2000</td>\n",
       "      <td>3</td>\n",
       "      <td>4</td>\n",
       "      <td>5</td>\n",
       "      <td>1165</td>\n",
       "    </tr>\n",
       "    <tr>\n",
       "      <th>3</th>\n",
       "      <td>14950</td>\n",
       "      <td>26</td>\n",
       "      <td>48000</td>\n",
       "      <td>Diesel</td>\n",
       "      <td>90</td>\n",
       "      <td>0</td>\n",
       "      <td>2000</td>\n",
       "      <td>3</td>\n",
       "      <td>4</td>\n",
       "      <td>5</td>\n",
       "      <td>1165</td>\n",
       "    </tr>\n",
       "    <tr>\n",
       "      <th>4</th>\n",
       "      <td>13750</td>\n",
       "      <td>30</td>\n",
       "      <td>38500</td>\n",
       "      <td>Diesel</td>\n",
       "      <td>90</td>\n",
       "      <td>0</td>\n",
       "      <td>2000</td>\n",
       "      <td>3</td>\n",
       "      <td>4</td>\n",
       "      <td>5</td>\n",
       "      <td>1170</td>\n",
       "    </tr>\n",
       "    <tr>\n",
       "      <th>...</th>\n",
       "      <td>...</td>\n",
       "      <td>...</td>\n",
       "      <td>...</td>\n",
       "      <td>...</td>\n",
       "      <td>...</td>\n",
       "      <td>...</td>\n",
       "      <td>...</td>\n",
       "      <td>...</td>\n",
       "      <td>...</td>\n",
       "      <td>...</td>\n",
       "      <td>...</td>\n",
       "    </tr>\n",
       "    <tr>\n",
       "      <th>1431</th>\n",
       "      <td>7500</td>\n",
       "      <td>69</td>\n",
       "      <td>20544</td>\n",
       "      <td>Petrol</td>\n",
       "      <td>86</td>\n",
       "      <td>0</td>\n",
       "      <td>1300</td>\n",
       "      <td>3</td>\n",
       "      <td>4</td>\n",
       "      <td>5</td>\n",
       "      <td>1025</td>\n",
       "    </tr>\n",
       "    <tr>\n",
       "      <th>1432</th>\n",
       "      <td>10845</td>\n",
       "      <td>72</td>\n",
       "      <td>19000</td>\n",
       "      <td>Petrol</td>\n",
       "      <td>86</td>\n",
       "      <td>0</td>\n",
       "      <td>1300</td>\n",
       "      <td>3</td>\n",
       "      <td>4</td>\n",
       "      <td>5</td>\n",
       "      <td>1015</td>\n",
       "    </tr>\n",
       "    <tr>\n",
       "      <th>1433</th>\n",
       "      <td>8500</td>\n",
       "      <td>71</td>\n",
       "      <td>17016</td>\n",
       "      <td>Petrol</td>\n",
       "      <td>86</td>\n",
       "      <td>0</td>\n",
       "      <td>1300</td>\n",
       "      <td>3</td>\n",
       "      <td>4</td>\n",
       "      <td>5</td>\n",
       "      <td>1015</td>\n",
       "    </tr>\n",
       "    <tr>\n",
       "      <th>1434</th>\n",
       "      <td>7250</td>\n",
       "      <td>70</td>\n",
       "      <td>16916</td>\n",
       "      <td>Petrol</td>\n",
       "      <td>86</td>\n",
       "      <td>0</td>\n",
       "      <td>1300</td>\n",
       "      <td>3</td>\n",
       "      <td>4</td>\n",
       "      <td>5</td>\n",
       "      <td>1015</td>\n",
       "    </tr>\n",
       "    <tr>\n",
       "      <th>1435</th>\n",
       "      <td>6950</td>\n",
       "      <td>76</td>\n",
       "      <td>1</td>\n",
       "      <td>Petrol</td>\n",
       "      <td>110</td>\n",
       "      <td>0</td>\n",
       "      <td>1600</td>\n",
       "      <td>5</td>\n",
       "      <td>4</td>\n",
       "      <td>5</td>\n",
       "      <td>1114</td>\n",
       "    </tr>\n",
       "  </tbody>\n",
       "</table>\n",
       "<p>1436 rows × 11 columns</p>\n",
       "</div>"
      ],
      "text/plain": [
       "      Price  Age_08_04     KM Fuel_Type   HP  Automatic    cc  Doors  \\\n",
       "0     13500         23  46986    Diesel   90          0  2000      3   \n",
       "1     13750         23  72937    Diesel   90          0  2000      3   \n",
       "2     13950         24  41711    Diesel   90          0  2000      3   \n",
       "3     14950         26  48000    Diesel   90          0  2000      3   \n",
       "4     13750         30  38500    Diesel   90          0  2000      3   \n",
       "...     ...        ...    ...       ...  ...        ...   ...    ...   \n",
       "1431   7500         69  20544    Petrol   86          0  1300      3   \n",
       "1432  10845         72  19000    Petrol   86          0  1300      3   \n",
       "1433   8500         71  17016    Petrol   86          0  1300      3   \n",
       "1434   7250         70  16916    Petrol   86          0  1300      3   \n",
       "1435   6950         76      1    Petrol  110          0  1600      5   \n",
       "\n",
       "      Cylinders  Gears  Weight  \n",
       "0             4      5    1165  \n",
       "1             4      5    1165  \n",
       "2             4      5    1165  \n",
       "3             4      5    1165  \n",
       "4             4      5    1170  \n",
       "...         ...    ...     ...  \n",
       "1431          4      5    1025  \n",
       "1432          4      5    1015  \n",
       "1433          4      5    1015  \n",
       "1434          4      5    1015  \n",
       "1435          4      5    1114  \n",
       "\n",
       "[1436 rows x 11 columns]"
      ]
     },
     "execution_count": 3,
     "metadata": {},
     "output_type": "execute_result"
    }
   ],
   "source": [
    "data"
   ]
  },
  {
   "cell_type": "markdown",
   "id": "f6eb8029",
   "metadata": {},
   "source": [
    "### Step 1: Exploratory Data Analysis (EDA)"
   ]
  },
  {
   "cell_type": "code",
   "execution_count": 4,
   "id": "b32366ea",
   "metadata": {},
   "outputs": [
    {
     "name": "stdout",
     "output_type": "stream",
     "text": [
      "              Price    Age_08_04             KM           HP    Automatic  \\\n",
      "count   1436.000000  1436.000000    1436.000000  1436.000000  1436.000000   \n",
      "mean   10730.824513    55.947075   68533.259749   101.502089     0.055710   \n",
      "std     3626.964585    18.599988   37506.448872    14.981080     0.229441   \n",
      "min     4350.000000     1.000000       1.000000    69.000000     0.000000   \n",
      "25%     8450.000000    44.000000   43000.000000    90.000000     0.000000   \n",
      "50%     9900.000000    61.000000   63389.500000   110.000000     0.000000   \n",
      "75%    11950.000000    70.000000   87020.750000   110.000000     0.000000   \n",
      "max    32500.000000    80.000000  243000.000000   192.000000     1.000000   \n",
      "\n",
      "                cc        Doors  Cylinders        Gears      Weight  \n",
      "count   1436.00000  1436.000000     1436.0  1436.000000  1436.00000  \n",
      "mean    1576.85585     4.033426        4.0     5.026462  1072.45961  \n",
      "std      424.38677     0.952677        0.0     0.188510    52.64112  \n",
      "min     1300.00000     2.000000        4.0     3.000000  1000.00000  \n",
      "25%     1400.00000     3.000000        4.0     5.000000  1040.00000  \n",
      "50%     1600.00000     4.000000        4.0     5.000000  1070.00000  \n",
      "75%     1600.00000     5.000000        4.0     5.000000  1085.00000  \n",
      "max    16000.00000     5.000000        4.0     6.000000  1615.00000  \n"
     ]
    }
   ],
   "source": [
    "# Summary statistics of the dataset\n",
    "print(data.describe())"
   ]
  },
  {
   "cell_type": "code",
   "execution_count": 5,
   "id": "91354d7e",
   "metadata": {},
   "outputs": [
    {
     "name": "stdout",
     "output_type": "stream",
     "text": [
      "Price        0\n",
      "Age_08_04    0\n",
      "KM           0\n",
      "Fuel_Type    0\n",
      "HP           0\n",
      "Automatic    0\n",
      "cc           0\n",
      "Doors        0\n",
      "Cylinders    0\n",
      "Gears        0\n",
      "Weight       0\n",
      "dtype: int64\n"
     ]
    }
   ],
   "source": [
    "# Checking for missing values\n",
    "print(data.isnull().sum())"
   ]
  },
  {
   "cell_type": "code",
   "execution_count": 6,
   "id": "5f7e37b6",
   "metadata": {},
   "outputs": [
    {
     "data": {
      "image/png": "[encoded data removed]",
      "text/plain": [
       "<Figure size 720x432 with 1 Axes>"
      ]
     },
     "metadata": {
      "needs_background": "light"
     },
     "output_type": "display_data"
    }
   ],
   "source": [
    "# Visualize the distribution of the target variable (Price)\n",
    "plt.figure(figsize=(10, 6))\n",
    "sns.histplot(data['Price'], kde=True)\n",
    "plt.title('Distribution of Car Prices')\n",
    "plt.xlabel('Price (EUROs)')\n",
    "plt.ylabel('Frequency')\n",
    "plt.show()"
   ]
  },
  {
   "cell_type": "code",
   "execution_count": 7,
   "id": "a8ec37b7",
   "metadata": {},
   "outputs": [
    {
     "data": {
      "image/png": "[encoded data removed]",
      "text/plain": [
       "<Figure size 864x576 with 2 Axes>"
      ]
     },
     "metadata": {
      "needs_background": "light"
     },
     "output_type": "display_data"
    }
   ],
   "source": [
    "# Correlation matrix\n",
    "plt.figure(figsize=(12, 8))\n",
    "sns.heatmap(data.corr(), annot=True, cmap='coolwarm')\n",
    "plt.title('Correlation Matrix')\n",
    "plt.show()"
   ]
  },
  {
   "cell_type": "markdown",
   "id": "fa196578",
   "metadata": {},
   "source": [
    "### Step 2: Data Preprocessing"
   ]
  },
  {
   "cell_type": "code",
   "execution_count": 8,
   "id": "795a325d",
   "metadata": {},
   "outputs": [],
   "source": [
    "from sklearn.model_selection import train_test_split\n",
    "from sklearn.preprocessing import StandardScaler"
   ]
  },
  {
   "cell_type": "code",
   "execution_count": 9,
   "id": "8c0015b4",
   "metadata": {},
   "outputs": [],
   "source": [
    "# Convert categorical variable 'FuelType' to dummy variables\n",
    "data = pd.get_dummies(data, columns=['Fuel_Type'], drop_first=True)"
   ]
  },
  {
   "cell_type": "code",
   "execution_count": 10,
   "id": "4f6fc4ff",
   "metadata": {},
   "outputs": [
    {
     "data": {
      "text/html": [
       "<div>\n",
       "<style scoped>\n",
       "    .dataframe tbody tr th:only-of-type {\n",
       "        vertical-align: middle;\n",
       "    }\n",
       "\n",
       "    .dataframe tbody tr th {\n",
       "        vertical-align: top;\n",
       "    }\n",
       "\n",
       "    .dataframe thead th {\n",
       "        text-align: right;\n",
       "    }\n",
       "</style>\n",
       "<table border=\"1\" class=\"dataframe\">\n",
       "  <thead>\n",
       "    <tr style=\"text-align: right;\">\n",
       "      <th></th>\n",
       "      <th>Price</th>\n",
       "      <th>Age_08_04</th>\n",
       "      <th>KM</th>\n",
       "      <th>HP</th>\n",
       "      <th>Automatic</th>\n",
       "      <th>cc</th>\n",
       "      <th>Doors</th>\n",
       "      <th>Cylinders</th>\n",
       "      <th>Gears</th>\n",
       "      <th>Weight</th>\n",
       "      <th>Fuel_Type_Diesel</th>\n",
       "      <th>Fuel_Type_Petrol</th>\n",
       "    </tr>\n",
       "  </thead>\n",
       "  <tbody>\n",
       "    <tr>\n",
       "      <th>0</th>\n",
       "      <td>13500</td>\n",
       "      <td>23</td>\n",
       "      <td>46986</td>\n",
       "      <td>90</td>\n",
       "      <td>0</td>\n",
       "      <td>2000</td>\n",
       "      <td>3</td>\n",
       "      <td>4</td>\n",
       "      <td>5</td>\n",
       "      <td>1165</td>\n",
       "      <td>1</td>\n",
       "      <td>0</td>\n",
       "    </tr>\n",
       "    <tr>\n",
       "      <th>1</th>\n",
       "      <td>13750</td>\n",
       "      <td>23</td>\n",
       "      <td>72937</td>\n",
       "      <td>90</td>\n",
       "      <td>0</td>\n",
       "      <td>2000</td>\n",
       "      <td>3</td>\n",
       "      <td>4</td>\n",
       "      <td>5</td>\n",
       "      <td>1165</td>\n",
       "      <td>1</td>\n",
       "      <td>0</td>\n",
       "    </tr>\n",
       "    <tr>\n",
       "      <th>2</th>\n",
       "      <td>13950</td>\n",
       "      <td>24</td>\n",
       "      <td>41711</td>\n",
       "      <td>90</td>\n",
       "      <td>0</td>\n",
       "      <td>2000</td>\n",
       "      <td>3</td>\n",
       "      <td>4</td>\n",
       "      <td>5</td>\n",
       "      <td>1165</td>\n",
       "      <td>1</td>\n",
       "      <td>0</td>\n",
       "    </tr>\n",
       "    <tr>\n",
       "      <th>3</th>\n",
       "      <td>14950</td>\n",
       "      <td>26</td>\n",
       "      <td>48000</td>\n",
       "      <td>90</td>\n",
       "      <td>0</td>\n",
       "      <td>2000</td>\n",
       "      <td>3</td>\n",
       "      <td>4</td>\n",
       "      <td>5</td>\n",
       "      <td>1165</td>\n",
       "      <td>1</td>\n",
       "      <td>0</td>\n",
       "    </tr>\n",
       "    <tr>\n",
       "      <th>4</th>\n",
       "      <td>13750</td>\n",
       "      <td>30</td>\n",
       "      <td>38500</td>\n",
       "      <td>90</td>\n",
       "      <td>0</td>\n",
       "      <td>2000</td>\n",
       "      <td>3</td>\n",
       "      <td>4</td>\n",
       "      <td>5</td>\n",
       "      <td>1170</td>\n",
       "      <td>1</td>\n",
       "      <td>0</td>\n",
       "    </tr>\n",
       "    <tr>\n",
       "      <th>...</th>\n",
       "      <td>...</td>\n",
       "      <td>...</td>\n",
       "      <td>...</td>\n",
       "      <td>...</td>\n",
       "      <td>...</td>\n",
       "      <td>...</td>\n",
       "      <td>...</td>\n",
       "      <td>...</td>\n",
       "      <td>...</td>\n",
       "      <td>...</td>\n",
       "      <td>...</td>\n",
       "      <td>...</td>\n",
       "    </tr>\n",
       "    <tr>\n",
       "      <th>1431</th>\n",
       "      <td>7500</td>\n",
       "      <td>69</td>\n",
       "      <td>20544</td>\n",
       "      <td>86</td>\n",
       "      <td>0</td>\n",
       "      <td>1300</td>\n",
       "      <td>3</td>\n",
       "      <td>4</td>\n",
       "      <td>5</td>\n",
       "      <td>1025</td>\n",
       "      <td>0</td>\n",
       "      <td>1</td>\n",
       "    </tr>\n",
       "    <tr>\n",
       "      <th>1432</th>\n",
       "      <td>10845</td>\n",
       "      <td>72</td>\n",
       "      <td>19000</td>\n",
       "      <td>86</td>\n",
       "      <td>0</td>\n",
       "      <td>1300</td>\n",
       "      <td>3</td>\n",
       "      <td>4</td>\n",
       "      <td>5</td>\n",
       "      <td>1015</td>\n",
       "      <td>0</td>\n",
       "      <td>1</td>\n",
       "    </tr>\n",
       "    <tr>\n",
       "      <th>1433</th>\n",
       "      <td>8500</td>\n",
       "      <td>71</td>\n",
       "      <td>17016</td>\n",
       "      <td>86</td>\n",
       "      <td>0</td>\n",
       "      <td>1300</td>\n",
       "      <td>3</td>\n",
       "      <td>4</td>\n",
       "      <td>5</td>\n",
       "      <td>1015</td>\n",
       "      <td>0</td>\n",
       "      <td>1</td>\n",
       "    </tr>\n",
       "    <tr>\n",
       "      <th>1434</th>\n",
       "      <td>7250</td>\n",
       "      <td>70</td>\n",
       "      <td>16916</td>\n",
       "      <td>86</td>\n",
       "      <td>0</td>\n",
       "      <td>1300</td>\n",
       "      <td>3</td>\n",
       "      <td>4</td>\n",
       "      <td>5</td>\n",
       "      <td>1015</td>\n",
       "      <td>0</td>\n",
       "      <td>1</td>\n",
       "    </tr>\n",
       "    <tr>\n",
       "      <th>1435</th>\n",
       "      <td>6950</td>\n",
       "      <td>76</td>\n",
       "      <td>1</td>\n",
       "      <td>110</td>\n",
       "      <td>0</td>\n",
       "      <td>1600</td>\n",
       "      <td>5</td>\n",
       "      <td>4</td>\n",
       "      <td>5</td>\n",
       "      <td>1114</td>\n",
       "      <td>0</td>\n",
       "      <td>1</td>\n",
       "    </tr>\n",
       "  </tbody>\n",
       "</table>\n",
       "<p>1436 rows × 12 columns</p>\n",
       "</div>"
      ],
      "text/plain": [
       "      Price  Age_08_04     KM   HP  Automatic    cc  Doors  Cylinders  Gears  \\\n",
       "0     13500         23  46986   90          0  2000      3          4      5   \n",
       "1     13750         23  72937   90          0  2000      3          4      5   \n",
       "2     13950         24  41711   90          0  2000      3          4      5   \n",
       "3     14950         26  48000   90          0  2000      3          4      5   \n",
       "4     13750         30  38500   90          0  2000      3          4      5   \n",
       "...     ...        ...    ...  ...        ...   ...    ...        ...    ...   \n",
       "1431   7500         69  20544   86          0  1300      3          4      5   \n",
       "1432  10845         72  19000   86          0  1300      3          4      5   \n",
       "1433   8500         71  17016   86          0  1300      3          4      5   \n",
       "1434   7250         70  16916   86          0  1300      3          4      5   \n",
       "1435   6950         76      1  110          0  1600      5          4      5   \n",
       "\n",
       "      Weight  Fuel_Type_Diesel  Fuel_Type_Petrol  \n",
       "0       1165                 1                 0  \n",
       "1       1165                 1                 0  \n",
       "2       1165                 1                 0  \n",
       "3       1165                 1                 0  \n",
       "4       1170                 1                 0  \n",
       "...      ...               ...               ...  \n",
       "1431    1025                 0                 1  \n",
       "1432    1015                 0                 1  \n",
       "1433    1015                 0                 1  \n",
       "1434    1015                 0                 1  \n",
       "1435    1114                 0                 1  \n",
       "\n",
       "[1436 rows x 12 columns]"
      ]
     },
     "execution_count": 10,
     "metadata": {},
     "output_type": "execute_result"
    }
   ],
   "source": [
    "data"
   ]
  },
  {
   "cell_type": "code",
   "execution_count": 11,
   "id": "705cfc6a",
   "metadata": {},
   "outputs": [],
   "source": [
    "# Separate features and target variable\n",
    "X = data.drop('Price', axis=1)\n",
    "y = data['Price']"
   ]
  },
  {
   "cell_type": "code",
   "execution_count": 12,
   "id": "a637c295",
   "metadata": {},
   "outputs": [],
   "source": [
    "# Split the data into training and testing sets (80% train, 20% test)\n",
    "X_train, X_test, y_train, y_test = train_test_split(X, y, test_size=0.2, random_state=42)"
   ]
  },
  {
   "cell_type": "code",
   "execution_count": 13,
   "id": "aa20e86b",
   "metadata": {},
   "outputs": [],
   "source": [
    "# Standardize the features (important for models like Lasso and Ridge)\n",
    "scaler = StandardScaler()\n",
    "X_train_scaled = scaler.fit_transform(X_train)\n",
    "X_test_scaled = scaler.transform(X_test)"
   ]
  },
  {
   "cell_type": "code",
   "execution_count": 14,
   "id": "7632a262",
   "metadata": {},
   "outputs": [
    {
     "data": {
      "text/plain": [
       "array([[ 0.32969109, -0.25437232, -1.02708007, ..., -0.74551807,\n",
       "        -0.35735329,  0.38321423],\n",
       "       [ 0.64944782, -0.19405395,  0.59013961, ..., -0.74551807,\n",
       "        -0.35735329,  0.38321423],\n",
       "       [-0.84275022, -0.80214697,  0.59013961, ...,  0.13905584,\n",
       "        -0.35735329,  0.38321423],\n",
       "       ...,\n",
       "       [ 1.28896126,  0.07587937,  0.59013961, ..., -0.05751614,\n",
       "        -0.35735329,  0.38321423],\n",
       "       [ 0.38298388, -0.11120576, -1.02708007, ..., -1.04037604,\n",
       "        -0.35735329,  0.38321423],\n",
       "       [ 1.28896126,  1.09118108,  0.59013961, ..., -0.74551807,\n",
       "        -0.35735329,  0.38321423]])"
      ]
     },
     "execution_count": 14,
     "metadata": {},
     "output_type": "execute_result"
    }
   ],
   "source": [
    "X_train_scaled"
   ]
  },
  {
   "cell_type": "code",
   "execution_count": 15,
   "id": "42f3272e",
   "metadata": {},
   "outputs": [
    {
     "data": {
      "text/plain": [
       "array([[-0.30982235, -1.23079748, -0.28585438, ..., -0.94209005,\n",
       "        -0.35735329,  0.38321423],\n",
       "       [ 0.64944782,  0.30637886,  0.59013961, ..., -0.35237411,\n",
       "        -0.35735329,  0.38321423],\n",
       "       [ 0.16981273,  1.62191904, -1.97045821, ...,  1.22020173,\n",
       "         2.79835116, -2.60950643],\n",
       "       ...,\n",
       "       [-0.84275022, -0.73086886,  0.59013961, ...,  0.13905584,\n",
       "        -0.35735329,  0.38321423],\n",
       "       [ 1.07579011, -1.82785114,  0.59013961, ...,  0.80740057,\n",
       "        -0.35735329,  0.38321423],\n",
       "       [ 0.16981273, -0.84723316,  0.59013961, ..., -0.4506601 ,\n",
       "        -0.35735329,  0.38321423]])"
      ]
     },
     "execution_count": 15,
     "metadata": {},
     "output_type": "execute_result"
    }
   ],
   "source": [
    "X_test_scaled"
   ]
  },
  {
   "cell_type": "markdown",
   "id": "7fd8bcfa",
   "metadata": {},
   "source": [
    "### Step 3: Build Multiple Linear Regression Models"
   ]
  },
  {
   "cell_type": "code",
   "execution_count": 16,
   "id": "efd053f2",
   "metadata": {},
   "outputs": [],
   "source": [
    "from sklearn.linear_model import LinearRegression\n",
    "import statsmodels.api as sm"
   ]
  },
  {
   "cell_type": "code",
   "execution_count": 17,
   "id": "fff30f4e",
   "metadata": {},
   "outputs": [
    {
     "data": {
      "text/plain": [
       "LinearRegression()"
      ]
     },
     "execution_count": 17,
     "metadata": {},
     "output_type": "execute_result"
    }
   ],
   "source": [
    "# Model 1: All features included\n",
    "model_1 = LinearRegression()\n",
    "model_1.fit(X_train_scaled, y_train)"
   ]
  },
  {
   "cell_type": "code",
   "execution_count": 20,
   "id": "799499ad",
   "metadata": {},
   "outputs": [],
   "source": [
    "# Drop the 'Doors' column from the original data\n",
    "X_train_dropped = X_train.drop(columns=['Doors'])\n",
    "X_test_dropped = X_test.drop(columns=['Doors'])\n"
   ]
  },
  {
   "cell_type": "code",
   "execution_count": 21,
   "id": "55833e61",
   "metadata": {},
   "outputs": [],
   "source": [
    "# Standardize the features (important for models like Lasso and Ridge)\n",
    "scaler_2 = StandardScaler()\n",
    "X_train_scaled_2 = scaler_2.fit_transform(X_train_dropped)\n",
    "X_test_scaled_2 = scaler_2.transform(X_test_dropped)"
   ]
  },
  {
   "cell_type": "code",
   "execution_count": 22,
   "id": "a15e77cc",
   "metadata": {},
   "outputs": [
    {
     "data": {
      "text/plain": [
       "LinearRegression()"
      ]
     },
     "execution_count": 22,
     "metadata": {},
     "output_type": "execute_result"
    }
   ],
   "source": [
    "model_2 = LinearRegression()\n",
    "model_2.fit(X_train_scaled_2, y_train)"
   ]
  },
  {
   "cell_type": "code",
   "execution_count": 25,
   "id": "fb8e0f27",
   "metadata": {},
   "outputs": [],
   "source": [
    "# Model 3: Using only highly correlated features\n",
    "# Let's assume Age, KM, and Weight are highly correlated with Price\n",
    "selected_features = ['Age_08_04', 'KM', 'Weight']\n",
    "X_train_selected = X_train[selected_features]\n",
    "X_test_selected = X_test[selected_features]"
   ]
  },
  {
   "cell_type": "code",
   "execution_count": 26,
   "id": "98f7c231",
   "metadata": {},
   "outputs": [],
   "source": [
    "scaler_selected = StandardScaler()\n",
    "X_train_selected_scaled = scaler_selected.fit_transform(X_train_selected)\n",
    "X_test_selected_scaled = scaler_selected.transform(X_test_selected)"
   ]
  },
  {
   "cell_type": "code",
   "execution_count": 27,
   "id": "8b5343f4",
   "metadata": {},
   "outputs": [
    {
     "data": {
      "text/plain": [
       "LinearRegression()"
      ]
     },
     "execution_count": 27,
     "metadata": {},
     "output_type": "execute_result"
    }
   ],
   "source": [
    "model_3 = LinearRegression()\n",
    "model_3.fit(X_train_selected_scaled, y_train)\n"
   ]
  },
  {
   "cell_type": "code",
   "execution_count": 28,
   "id": "e2da0e5d",
   "metadata": {},
   "outputs": [
    {
     "name": "stdout",
     "output_type": "stream",
     "text": [
      "Model 1 Coefficients: [-2.26729478e+03 -6.11654412e+02  2.08349858e+02  3.43971298e+01\n",
      " -1.41619166e+01 -5.74678039e+01 -2.27373675e-13  1.09340417e+02\n",
      "  1.31681831e+03 -2.17221726e+01  4.58047731e+02]\n",
      "Model 2 Coefficients: [-2.26925663e+03 -6.18939748e+02  2.17855163e+02  4.12161138e+01\n",
      " -1.58585171e+01 -1.02318154e-12  1.20348627e+02  1.28022745e+03\n",
      " -1.32602697e+00  4.46876963e+02]\n",
      "Model 3 Coefficients: [-2213.50035276  -927.63542198  1050.38286496]\n"
     ]
    }
   ],
   "source": [
    "# Display the coefficients of the models\n",
    "print(\"Model 1 Coefficients:\", model_1.coef_)\n",
    "print(\"Model 2 Coefficients:\", model_2.coef_)\n",
    "print(\"Model 3 Coefficients:\", model_3.coef_)"
   ]
  },
  {
   "cell_type": "code",
   "execution_count": 29,
   "id": "1dc73bcc",
   "metadata": {},
   "outputs": [
    {
     "name": "stdout",
     "output_type": "stream",
     "text": [
      "Feature: Age_08_04, Coefficient: -2267.2947825060996\n",
      "Feature: KM, Coefficient: -611.654411541434\n",
      "Feature: HP, Coefficient: 208.3498578908248\n",
      "Feature: Automatic, Coefficient: 34.39712978861685\n",
      "Feature: cc, Coefficient: -14.16191663402089\n",
      "Feature: Doors, Coefficient: -57.46780385451835\n",
      "Feature: Cylinders, Coefficient: -2.2737367544323206e-13\n",
      "Feature: Gears, Coefficient: 109.3404169504551\n",
      "Feature: Weight, Coefficient: 1316.818310764173\n",
      "Feature: Fuel_Type_Diesel, Coefficient: -21.722172573582128\n",
      "Feature: Fuel_Type_Petrol, Coefficient: 458.04773146967756\n"
     ]
    }
   ],
   "source": [
    "# Interpret the coefficients\n",
    "feature_names = X.columns\n",
    "for i, coef in enumerate(model_1.coef_):\n",
    "    print(f\"Feature: {feature_names[i]}, Coefficient: {coef}\")"
   ]
  },
  {
   "cell_type": "markdown",
   "id": "5f648480",
   "metadata": {},
   "source": [
    "### Step 4: Model Evaluation"
   ]
  },
  {
   "cell_type": "code",
   "execution_count": 33,
   "id": "8a013bf8",
   "metadata": {},
   "outputs": [],
   "source": [
    "from sklearn.metrics import mean_absolute_error, mean_squared_error, r2_score"
   ]
  },
  {
   "cell_type": "code",
   "execution_count": 34,
   "id": "26db8859",
   "metadata": {},
   "outputs": [],
   "source": [
    "# Model predictions\n",
    "y_pred_1 = model_1.predict(X_test_scaled)\n",
    "y_pred_2 = model_2.predict(X_test_scaled_2)\n",
    "y_pred_3 = model_3.predict(X_test_selected_scaled)"
   ]
  },
  {
   "cell_type": "code",
   "execution_count": 35,
   "id": "e1e97705",
   "metadata": {},
   "outputs": [],
   "source": [
    "# Evaluation metrics\n",
    "def evaluate_model(y_test, y_pred):\n",
    "    mae = mean_absolute_error(y_test, y_pred)\n",
    "    mse = mean_squared_error(y_test, y_pred)\n",
    "    r2 = r2_score(y_test, y_pred)\n",
    "    return mae, mse, r2"
   ]
  },
  {
   "cell_type": "code",
   "execution_count": 36,
   "id": "0d7aec09",
   "metadata": {},
   "outputs": [
    {
     "name": "stdout",
     "output_type": "stream",
     "text": [
      "Model 1 Evaluation: (990.8872739193971, 2203043.8231437057, 0.834888804061108)\n",
      "Model 2 Evaluation: (996.4345054725555, 2187147.670282138, 0.8360801706522889)\n",
      "Model 3 Evaluation: (1020.5916300198205, 2234953.06172593, 0.8324973071292439)\n"
     ]
    }
   ],
   "source": [
    "print(\"Model 1 Evaluation:\", evaluate_model(y_test, y_pred_1))\n",
    "print(\"Model 2 Evaluation:\", evaluate_model(y_test, y_pred_2))\n",
    "print(\"Model 3 Evaluation:\", evaluate_model(y_test, y_pred_3))\n"
   ]
  },
  {
   "cell_type": "markdown",
   "id": "787cc493",
   "metadata": {},
   "source": [
    "### Step 5: Apply Lasso and Ridge Regression"
   ]
  },
  {
   "cell_type": "code",
   "execution_count": 37,
   "id": "9de36e4b",
   "metadata": {},
   "outputs": [],
   "source": [
    "from sklearn.linear_model import Lasso, Ridge"
   ]
  },
  {
   "cell_type": "code",
   "execution_count": 38,
   "id": "dba4c178",
   "metadata": {},
   "outputs": [],
   "source": [
    "# Lasso Regression\n",
    "lasso = Lasso(alpha=0.1)\n",
    "lasso.fit(X_train_scaled, y_train)\n",
    "y_pred_lasso = lasso.predict(X_test_scaled)"
   ]
  },
  {
   "cell_type": "code",
   "execution_count": 39,
   "id": "35d7f92b",
   "metadata": {},
   "outputs": [],
   "source": [
    "# Ridge Regression\n",
    "ridge = Ridge(alpha=0.1)\n",
    "ridge.fit(X_train_scaled, y_train)\n",
    "y_pred_ridge = ridge.predict(X_test_scaled)"
   ]
  },
  {
   "cell_type": "code",
   "execution_count": 40,
   "id": "29444be2",
   "metadata": {},
   "outputs": [
    {
     "name": "stdout",
     "output_type": "stream",
     "text": [
      "Lasso Regression Evaluation: (990.9001968731633, 2202739.480842683, 0.8349116135580271)\n",
      "Ridge Regression Evaluation: (990.884450359825, 2202832.1358484146, 0.8349046693571694)\n"
     ]
    }
   ],
   "source": [
    "# Evaluate Lasso and Ridge\n",
    "print(\"Lasso Regression Evaluation:\", evaluate_model(y_test, y_pred_lasso))\n",
    "print(\"Ridge Regression Evaluation:\", evaluate_model(y_test, y_pred_ridge))"
   ]
  },
  {
   "cell_type": "markdown",
   "id": "36818972",
   "metadata": {},
   "source": [
    "### Interview Questions"
   ]
  },
  {
   "cell_type": "markdown",
   "id": "ad142fee",
   "metadata": {},
   "source": [
    "Normalization & Standardization:\n",
    "\n",
    "Normalization scales data to a [0,1] range.\n",
    "Standardization scales data to have a mean of 0 and a standard deviation of 1.\n",
    "Helpful in ensuring all features contribute equally to the model, especially important for algorithms sensitive to feature scales like Lasso and Ridge regression."
   ]
  },
  {
   "cell_type": "markdown",
   "id": "ff8fe256",
   "metadata": {},
   "source": [
    "Techniques to Address Multicollinearity:\n",
    "\n",
    "Remove highly correlated features: Eliminate one of the correlated features.\n",
    "    \n",
    "Regularization: Use techniques like Ridge and Lasso regression.\n",
    "    \n",
    "Principal Component Analysis (PCA): Transform features into a set of linearly uncorrelated components."
   ]
  },
  {
   "cell_type": "code",
   "execution_count": null,
   "id": "3d52df17",
   "metadata": {},
   "outputs": [],
   "source": []
  }
 ],
 "metadata": {
  "kernelspec": {
   "display_name": "Python 3",
   "language": "python",
   "name": "python3"
  },
  "language_info": {
   "codemirror_mode": {
    "name": "ipython",
    "version": 3
   },
   "file_extension": ".py",
   "mimetype": "text/x-python",
   "name": "python",
   "nbconvert_exporter": "python",
   "pygments_lexer": "ipython3",
   "version": "3.8.5"
  }
 },
 "nbformat": 4,
 "nbformat_minor": 5
}
