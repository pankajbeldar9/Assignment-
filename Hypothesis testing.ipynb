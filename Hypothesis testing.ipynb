{
 "cells": [
  {
   "cell_type": "markdown",
   "id": "ff5fcf19",
   "metadata": {},
   "source": [
    "Background:\n",
    "Bombay hospitality Ltd. operates a franchise model for producing exotic Norwegian dinners throughout New England. The operating cost for a franchise in a week (W) is given by the equation W = $1,000 + $5X, where X represents the number of units produced in a week. Recent feedback from restaurant owners suggests that this cost model may no longer be accurate, as their observed weekly operating costs are higher.\n"
   ]
  },
  {
   "cell_type": "markdown",
   "id": "7da38cdb",
   "metadata": {},
   "source": [
    "Objective:\n",
    "To investigate the restaurant owners' claim about the increase in weekly operating costs using hypothesis testing.\n"
   ]
  },
  {
   "cell_type": "markdown",
   "id": "508292e6",
   "metadata": {},
   "source": [
    "Data Provided:\n",
    "•\tThe theoretical weekly operating cost model: W = $1,000 + $5X\n",
    "•\tSample of 25 restaurants with a mean weekly cost of Rs. 3,050\n",
    "•\tNumber of units produced in a week (X) follows a normal distribution with a mean (μ) of 600 units and a standard deviation (σ) of 25 units\n"
   ]
  },
  {
   "cell_type": "code",
   "execution_count": 4,
   "id": "7c198f80",
   "metadata": {},
   "outputs": [],
   "source": [
    "import math\n",
    "\n",
    "# Given data\n",
    "sample_mean = 3050\n",
    "theoretical_mean = 4000\n",
    "standard_deviation = 5 * 25\n",
    "sample_size = 25\n",
    "alpha = 0.05"
   ]
  },
  {
   "cell_type": "markdown",
   "id": "e6687029",
   "metadata": {},
   "source": [
    "### 1. State the Hypotheses Statement:"
   ]
  },
  {
   "cell_type": "markdown",
   "id": "4fb4ea53",
   "metadata": {},
   "source": [
    "Null Hypothesis (H₀): The mean weekly operating cost is equal to the theoretical mean weekly cost."
   ]
  },
  {
   "cell_type": "markdown",
   "id": "0b70cec3",
   "metadata": {},
   "source": [
    "H0: μ=1000+5×600=4000"
   ]
  },
  {
   "cell_type": "markdown",
   "id": "a382b091",
   "metadata": {},
   "source": [
    "Alternative Hypothesis (H₁): The mean weekly operating cost is greater than the theoretical mean weekly cost"
   ]
  },
  {
   "cell_type": "markdown",
   "id": "c7b2b31f",
   "metadata": {},
   "source": [
    "H1: μ>4000"
   ]
  },
  {
   "cell_type": "markdown",
   "id": "186708db",
   "metadata": {},
   "source": [
    "### 2. Calculate the Test Statistic:"
   ]
  },
  {
   "cell_type": "markdown",
   "id": "218da4cd",
   "metadata": {},
   "source": [
    "We will use the following formula to calculate the test statistic (t):\n",
    "    Where:\n",
    "\n",
    "𝑥 = sample mean weekly cost (Rs. 3,050)\n",
    "μ = theoretical mean weekly cost according to the cost model (Rs. 4,000)\n",
    "𝜎 = 5 × 25 (since the standard deviation of X is 25 units and the cost per unit is $5)\n",
    "n = sample size (25 restaurants)"
   ]
  },
  {
   "cell_type": "markdown",
   "id": "338d50cb",
   "metadata": {},
   "source": [
    "First, we calculate  𝜎\n",
    "\n",
    "σ=5×25=125"
   ]
  },
  {
   "cell_type": "markdown",
   "id": "2ef8c015",
   "metadata": {},
   "source": [
    "Now, we calculate the test statistic:\n",
    "\n",
    "t=−38"
   ]
  },
  {
   "cell_type": "code",
   "execution_count": 6,
   "id": "69de8f4e",
   "metadata": {},
   "outputs": [
    {
     "data": {
      "text/plain": [
       "-38.0"
      ]
     },
     "execution_count": 6,
     "metadata": {},
     "output_type": "execute_result"
    }
   ],
   "source": [
    "# Calculate the test statistic\n",
    "test_statistic = (sample_mean - theoretical_mean) / (standard_deviation / math.sqrt(sample_size))\n",
    "test_statistic"
   ]
  },
  {
   "cell_type": "markdown",
   "id": "8b6efcb6",
   "metadata": {},
   "source": [
    "### 3. Determine the Critical Value:"
   ]
  },
  {
   "cell_type": "markdown",
   "id": "861e8ba6",
   "metadata": {},
   "source": [
    "Using the alpha level of 5% (α = 0.05) for a one-tailed test, we find the critical value from the standard normal (Z) distribution table. For a significance level of 0.05, the critical value (Zα) is approximately -1.645."
   ]
  },
  {
   "cell_type": "code",
   "execution_count": 8,
   "id": "8c50ffbd",
   "metadata": {},
   "outputs": [
    {
     "data": {
      "text/plain": [
       "-1.645"
      ]
     },
     "execution_count": 8,
     "metadata": {},
     "output_type": "execute_result"
    }
   ],
   "source": [
    "# Determine the critical value from the Z-distribution\n",
    "critical_value = -1.645  # for one-tailed test at alpha = 0.05\n",
    "critical_value"
   ]
  },
  {
   "cell_type": "code",
   "execution_count": 9,
   "id": "785ea3f9",
   "metadata": {},
   "outputs": [
    {
     "name": "stdout",
     "output_type": "stream",
     "text": [
      "Test Statistic: -38.0\n",
      "Critical Value: -1.645\n"
     ]
    }
   ],
   "source": [
    "# Print the results\n",
    "print(f\"Test Statistic: {test_statistic}\")\n",
    "print(f\"Critical Value: {critical_value}\")"
   ]
  },
  {
   "cell_type": "markdown",
   "id": "bd30e890",
   "metadata": {},
   "source": [
    "### 4. Make a Decision:"
   ]
  },
  {
   "cell_type": "markdown",
   "id": "1e82cffc",
   "metadata": {},
   "source": [
    "We compare the test statistic (t) with the critical value."
   ]
  },
  {
   "cell_type": "markdown",
   "id": "ab570138",
   "metadata": {},
   "source": [
    "If t<−1.645, we reject the null hypothesis."
   ]
  },
  {
   "cell_type": "markdown",
   "id": "51e942f8",
   "metadata": {},
   "source": [
    "If  t>−1.645, we fail to reject the null hypothesis."
   ]
  },
  {
   "cell_type": "markdown",
   "id": "eb45ef8e",
   "metadata": {},
   "source": [
    "Since t=−38 and −38<−1.645, we reject the null hypothesis."
   ]
  },
  {
   "cell_type": "code",
   "execution_count": 10,
   "id": "c710ea0d",
   "metadata": {},
   "outputs": [
    {
     "name": "stdout",
     "output_type": "stream",
     "text": [
      "Reject the null hypothesis.\n",
      "Conclusion: There is strong evidence to support the restaurant owners' claim that the weekly operating costs are higher than the model suggests.\n"
     ]
    }
   ],
   "source": [
    "# Decision making\n",
    "if test_statistic < critical_value:\n",
    "    print(\"Reject the null hypothesis.\")\n",
    "    conclusion = \"There is strong evidence to support the restaurant owners' claim that the weekly operating costs are higher than the model suggests.\"\n",
    "else:\n",
    "    print(\"Fail to reject the null hypothesis.\")\n",
    "    conclusion = \"There is not enough evidence to support the restaurant owners' claim that the weekly operating costs are higher than the model suggests.\"\n",
    "\n",
    "print(f\"Conclusion: {conclusion}\")"
   ]
  },
  {
   "cell_type": "markdown",
   "id": "40767eeb",
   "metadata": {},
   "source": [
    "### 5. Conclusion:"
   ]
  },
  {
   "cell_type": "markdown",
   "id": "a428ca92",
   "metadata": {},
   "source": [
    "Based on our analysis, we reject the null hypothesis. There is strong evidence to support the restaurant owners' claim that the weekly operating costs are higher than the model suggests."
   ]
  },
  {
   "cell_type": "code",
   "execution_count": null,
   "id": "7a2ba9ac",
   "metadata": {},
   "outputs": [],
   "source": []
  }
 ],
 "metadata": {
  "kernelspec": {
   "display_name": "Python 3",
   "language": "python",
   "name": "python3"
  },
  "language_info": {
   "codemirror_mode": {
    "name": "ipython",
    "version": 3
   },
   "file_extension": ".py",
   "mimetype": "text/x-python",
   "name": "python",
   "nbconvert_exporter": "python",
   "pygments_lexer": "ipython3",
   "version": "3.8.5"
  }
 },
 "nbformat": 4,
 "nbformat_minor": 5
}
