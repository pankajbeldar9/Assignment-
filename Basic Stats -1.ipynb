{
 "cells": [
  {
   "cell_type": "code",
   "execution_count": 1,
   "id": "f47537f1",
   "metadata": {},
   "outputs": [],
   "source": [
    "import pandas as pd\n",
    "import numpy as np\n",
    "import matplotlib.pyplot as plt\n",
    "import warnings\n",
    "warnings.filterwarnings('ignore')"
   ]
  },
  {
   "cell_type": "code",
   "execution_count": 2,
   "id": "0c0d9403",
   "metadata": {},
   "outputs": [
    {
     "data": {
      "text/html": [
       "<div>\n",
       "<style scoped>\n",
       "    .dataframe tbody tr th:only-of-type {\n",
       "        vertical-align: middle;\n",
       "    }\n",
       "\n",
       "    .dataframe tbody tr th {\n",
       "        vertical-align: top;\n",
       "    }\n",
       "\n",
       "    .dataframe thead th {\n",
       "        text-align: right;\n",
       "    }\n",
       "</style>\n",
       "<table border=\"1\" class=\"dataframe\">\n",
       "  <thead>\n",
       "    <tr style=\"text-align: right;\">\n",
       "      <th></th>\n",
       "      <th>Date</th>\n",
       "      <th>Day</th>\n",
       "      <th>SKU</th>\n",
       "      <th>City</th>\n",
       "      <th>Volume</th>\n",
       "      <th>BU</th>\n",
       "      <th>Brand</th>\n",
       "      <th>Model</th>\n",
       "      <th>Avg Price</th>\n",
       "      <th>Total Sales Value</th>\n",
       "      <th>Discount Rate (%)</th>\n",
       "      <th>Discount Amount</th>\n",
       "      <th>Net Sales Value</th>\n",
       "    </tr>\n",
       "  </thead>\n",
       "  <tbody>\n",
       "    <tr>\n",
       "      <th>0</th>\n",
       "      <td>01-04-2021</td>\n",
       "      <td>Thursday</td>\n",
       "      <td>M01</td>\n",
       "      <td>C</td>\n",
       "      <td>15</td>\n",
       "      <td>Mobiles</td>\n",
       "      <td>RealU</td>\n",
       "      <td>RU-10</td>\n",
       "      <td>12100</td>\n",
       "      <td>181500</td>\n",
       "      <td>11.654820</td>\n",
       "      <td>21153.498820</td>\n",
       "      <td>160346.501180</td>\n",
       "    </tr>\n",
       "    <tr>\n",
       "      <th>1</th>\n",
       "      <td>01-04-2021</td>\n",
       "      <td>Thursday</td>\n",
       "      <td>M02</td>\n",
       "      <td>C</td>\n",
       "      <td>10</td>\n",
       "      <td>Mobiles</td>\n",
       "      <td>RealU</td>\n",
       "      <td>RU-9 Plus</td>\n",
       "      <td>10100</td>\n",
       "      <td>101000</td>\n",
       "      <td>11.560498</td>\n",
       "      <td>11676.102961</td>\n",
       "      <td>89323.897039</td>\n",
       "    </tr>\n",
       "    <tr>\n",
       "      <th>2</th>\n",
       "      <td>01-04-2021</td>\n",
       "      <td>Thursday</td>\n",
       "      <td>M03</td>\n",
       "      <td>C</td>\n",
       "      <td>7</td>\n",
       "      <td>Mobiles</td>\n",
       "      <td>YouM</td>\n",
       "      <td>YM-99</td>\n",
       "      <td>16100</td>\n",
       "      <td>112700</td>\n",
       "      <td>9.456886</td>\n",
       "      <td>10657.910157</td>\n",
       "      <td>102042.089843</td>\n",
       "    </tr>\n",
       "    <tr>\n",
       "      <th>3</th>\n",
       "      <td>01-04-2021</td>\n",
       "      <td>Thursday</td>\n",
       "      <td>M04</td>\n",
       "      <td>C</td>\n",
       "      <td>6</td>\n",
       "      <td>Mobiles</td>\n",
       "      <td>YouM</td>\n",
       "      <td>YM-99 Plus</td>\n",
       "      <td>20100</td>\n",
       "      <td>120600</td>\n",
       "      <td>6.935385</td>\n",
       "      <td>8364.074702</td>\n",
       "      <td>112235.925298</td>\n",
       "    </tr>\n",
       "    <tr>\n",
       "      <th>4</th>\n",
       "      <td>01-04-2021</td>\n",
       "      <td>Thursday</td>\n",
       "      <td>M05</td>\n",
       "      <td>C</td>\n",
       "      <td>3</td>\n",
       "      <td>Mobiles</td>\n",
       "      <td>YouM</td>\n",
       "      <td>YM-98</td>\n",
       "      <td>8100</td>\n",
       "      <td>24300</td>\n",
       "      <td>17.995663</td>\n",
       "      <td>4372.946230</td>\n",
       "      <td>19927.053770</td>\n",
       "    </tr>\n",
       "    <tr>\n",
       "      <th>...</th>\n",
       "      <td>...</td>\n",
       "      <td>...</td>\n",
       "      <td>...</td>\n",
       "      <td>...</td>\n",
       "      <td>...</td>\n",
       "      <td>...</td>\n",
       "      <td>...</td>\n",
       "      <td>...</td>\n",
       "      <td>...</td>\n",
       "      <td>...</td>\n",
       "      <td>...</td>\n",
       "      <td>...</td>\n",
       "      <td>...</td>\n",
       "    </tr>\n",
       "    <tr>\n",
       "      <th>445</th>\n",
       "      <td>15-04-2021</td>\n",
       "      <td>Thursday</td>\n",
       "      <td>L06</td>\n",
       "      <td>C</td>\n",
       "      <td>2</td>\n",
       "      <td>Lifestyle</td>\n",
       "      <td>Jeera</td>\n",
       "      <td>M-Casuals</td>\n",
       "      <td>1300</td>\n",
       "      <td>2600</td>\n",
       "      <td>15.475687</td>\n",
       "      <td>402.367873</td>\n",
       "      <td>2197.632127</td>\n",
       "    </tr>\n",
       "    <tr>\n",
       "      <th>446</th>\n",
       "      <td>15-04-2021</td>\n",
       "      <td>Thursday</td>\n",
       "      <td>L07</td>\n",
       "      <td>C</td>\n",
       "      <td>6</td>\n",
       "      <td>Lifestyle</td>\n",
       "      <td>Viva</td>\n",
       "      <td>W-Western</td>\n",
       "      <td>2600</td>\n",
       "      <td>15600</td>\n",
       "      <td>17.057027</td>\n",
       "      <td>2660.896242</td>\n",
       "      <td>12939.103758</td>\n",
       "    </tr>\n",
       "    <tr>\n",
       "      <th>447</th>\n",
       "      <td>15-04-2021</td>\n",
       "      <td>Thursday</td>\n",
       "      <td>L08</td>\n",
       "      <td>C</td>\n",
       "      <td>2</td>\n",
       "      <td>Lifestyle</td>\n",
       "      <td>Viva</td>\n",
       "      <td>W-Lounge</td>\n",
       "      <td>1600</td>\n",
       "      <td>3200</td>\n",
       "      <td>18.965550</td>\n",
       "      <td>606.897606</td>\n",
       "      <td>2593.102394</td>\n",
       "    </tr>\n",
       "    <tr>\n",
       "      <th>448</th>\n",
       "      <td>15-04-2021</td>\n",
       "      <td>Thursday</td>\n",
       "      <td>L09</td>\n",
       "      <td>C</td>\n",
       "      <td>3</td>\n",
       "      <td>Lifestyle</td>\n",
       "      <td>Jeera</td>\n",
       "      <td>M-Formals</td>\n",
       "      <td>1900</td>\n",
       "      <td>5700</td>\n",
       "      <td>16.793014</td>\n",
       "      <td>957.201826</td>\n",
       "      <td>4742.798174</td>\n",
       "    </tr>\n",
       "    <tr>\n",
       "      <th>449</th>\n",
       "      <td>15-04-2021</td>\n",
       "      <td>Thursday</td>\n",
       "      <td>L10</td>\n",
       "      <td>C</td>\n",
       "      <td>1</td>\n",
       "      <td>Lifestyle</td>\n",
       "      <td>Jeera</td>\n",
       "      <td>M-Shoes</td>\n",
       "      <td>3100</td>\n",
       "      <td>3100</td>\n",
       "      <td>15.333300</td>\n",
       "      <td>475.332295</td>\n",
       "      <td>2624.667705</td>\n",
       "    </tr>\n",
       "  </tbody>\n",
       "</table>\n",
       "<p>450 rows × 13 columns</p>\n",
       "</div>"
      ],
      "text/plain": [
       "           Date       Day  SKU City  Volume         BU  Brand       Model  \\\n",
       "0    01-04-2021  Thursday  M01    C      15    Mobiles  RealU       RU-10   \n",
       "1    01-04-2021  Thursday  M02    C      10    Mobiles  RealU   RU-9 Plus   \n",
       "2    01-04-2021  Thursday  M03    C       7    Mobiles   YouM       YM-99   \n",
       "3    01-04-2021  Thursday  M04    C       6    Mobiles   YouM  YM-99 Plus   \n",
       "4    01-04-2021  Thursday  M05    C       3    Mobiles   YouM      YM-98    \n",
       "..          ...       ...  ...  ...     ...        ...    ...         ...   \n",
       "445  15-04-2021  Thursday  L06    C       2  Lifestyle  Jeera   M-Casuals   \n",
       "446  15-04-2021  Thursday  L07    C       6  Lifestyle   Viva   W-Western   \n",
       "447  15-04-2021  Thursday  L08    C       2  Lifestyle   Viva    W-Lounge   \n",
       "448  15-04-2021  Thursday  L09    C       3  Lifestyle  Jeera   M-Formals   \n",
       "449  15-04-2021  Thursday  L10    C       1  Lifestyle  Jeera     M-Shoes   \n",
       "\n",
       "     Avg Price  Total Sales Value  Discount Rate (%)  Discount Amount  \\\n",
       "0        12100             181500          11.654820     21153.498820   \n",
       "1        10100             101000          11.560498     11676.102961   \n",
       "2        16100             112700           9.456886     10657.910157   \n",
       "3        20100             120600           6.935385      8364.074702   \n",
       "4         8100              24300          17.995663      4372.946230   \n",
       "..         ...                ...                ...              ...   \n",
       "445       1300               2600          15.475687       402.367873   \n",
       "446       2600              15600          17.057027      2660.896242   \n",
       "447       1600               3200          18.965550       606.897606   \n",
       "448       1900               5700          16.793014       957.201826   \n",
       "449       3100               3100          15.333300       475.332295   \n",
       "\n",
       "     Net Sales Value  \n",
       "0      160346.501180  \n",
       "1       89323.897039  \n",
       "2      102042.089843  \n",
       "3      112235.925298  \n",
       "4       19927.053770  \n",
       "..               ...  \n",
       "445      2197.632127  \n",
       "446     12939.103758  \n",
       "447      2593.102394  \n",
       "448      4742.798174  \n",
       "449      2624.667705  \n",
       "\n",
       "[450 rows x 13 columns]"
      ]
     },
     "execution_count": 2,
     "metadata": {},
     "output_type": "execute_result"
    }
   ],
   "source": [
    "data = pd.read_csv(\"sales_data_with_discounts.csv\")\n",
    "data"
   ]
  },
  {
   "cell_type": "markdown",
   "id": "a662bd1e",
   "metadata": {},
   "source": [
    "### Descriptive Analytics for Numerical Columns"
   ]
  },
  {
   "cell_type": "code",
   "execution_count": 3,
   "id": "2f0fe576",
   "metadata": {},
   "outputs": [
    {
     "data": {
      "text/plain": [
       "Index(['Volume', 'Avg Price', 'Total Sales Value', 'Discount Rate (%)',\n",
       "       'Discount Amount', 'Net Sales Value'],\n",
       "      dtype='object')"
      ]
     },
     "execution_count": 3,
     "metadata": {},
     "output_type": "execute_result"
    }
   ],
   "source": [
    "# Identify numerical columns\n",
    "numerical_columns = data.select_dtypes(include=['number']).columns\n",
    "numerical_columns"
   ]
  },
  {
   "cell_type": "code",
   "execution_count": 4,
   "id": "6734866f",
   "metadata": {},
   "outputs": [
    {
     "data": {
      "text/html": [
       "<div>\n",
       "<style scoped>\n",
       "    .dataframe tbody tr th:only-of-type {\n",
       "        vertical-align: middle;\n",
       "    }\n",
       "\n",
       "    .dataframe tbody tr th {\n",
       "        vertical-align: top;\n",
       "    }\n",
       "\n",
       "    .dataframe thead th {\n",
       "        text-align: right;\n",
       "    }\n",
       "</style>\n",
       "<table border=\"1\" class=\"dataframe\">\n",
       "  <thead>\n",
       "    <tr style=\"text-align: right;\">\n",
       "      <th></th>\n",
       "      <th>Volume</th>\n",
       "      <th>Avg Price</th>\n",
       "      <th>Total Sales Value</th>\n",
       "      <th>Discount Rate (%)</th>\n",
       "      <th>Discount Amount</th>\n",
       "      <th>Net Sales Value</th>\n",
       "    </tr>\n",
       "  </thead>\n",
       "  <tbody>\n",
       "    <tr>\n",
       "      <th>count</th>\n",
       "      <td>450.000000</td>\n",
       "      <td>450.000000</td>\n",
       "      <td>450.000000</td>\n",
       "      <td>450.000000</td>\n",
       "      <td>450.000000</td>\n",
       "      <td>450.000000</td>\n",
       "    </tr>\n",
       "    <tr>\n",
       "      <th>mean</th>\n",
       "      <td>5.066667</td>\n",
       "      <td>10453.433333</td>\n",
       "      <td>33812.835556</td>\n",
       "      <td>15.155242</td>\n",
       "      <td>3346.499424</td>\n",
       "      <td>30466.336131</td>\n",
       "    </tr>\n",
       "    <tr>\n",
       "      <th>std</th>\n",
       "      <td>4.231602</td>\n",
       "      <td>18079.904840</td>\n",
       "      <td>50535.074173</td>\n",
       "      <td>4.220602</td>\n",
       "      <td>4509.902963</td>\n",
       "      <td>46358.656624</td>\n",
       "    </tr>\n",
       "    <tr>\n",
       "      <th>min</th>\n",
       "      <td>1.000000</td>\n",
       "      <td>290.000000</td>\n",
       "      <td>400.000000</td>\n",
       "      <td>5.007822</td>\n",
       "      <td>69.177942</td>\n",
       "      <td>326.974801</td>\n",
       "    </tr>\n",
       "    <tr>\n",
       "      <th>25%</th>\n",
       "      <td>3.000000</td>\n",
       "      <td>465.000000</td>\n",
       "      <td>2700.000000</td>\n",
       "      <td>13.965063</td>\n",
       "      <td>460.459304</td>\n",
       "      <td>2202.208645</td>\n",
       "    </tr>\n",
       "    <tr>\n",
       "      <th>50%</th>\n",
       "      <td>4.000000</td>\n",
       "      <td>1450.000000</td>\n",
       "      <td>5700.000000</td>\n",
       "      <td>16.577766</td>\n",
       "      <td>988.933733</td>\n",
       "      <td>4677.788059</td>\n",
       "    </tr>\n",
       "    <tr>\n",
       "      <th>75%</th>\n",
       "      <td>6.000000</td>\n",
       "      <td>10100.000000</td>\n",
       "      <td>53200.000000</td>\n",
       "      <td>18.114718</td>\n",
       "      <td>5316.495427</td>\n",
       "      <td>47847.912852</td>\n",
       "    </tr>\n",
       "    <tr>\n",
       "      <th>max</th>\n",
       "      <td>31.000000</td>\n",
       "      <td>60100.000000</td>\n",
       "      <td>196400.000000</td>\n",
       "      <td>19.992407</td>\n",
       "      <td>25738.022194</td>\n",
       "      <td>179507.479049</td>\n",
       "    </tr>\n",
       "  </tbody>\n",
       "</table>\n",
       "</div>"
      ],
      "text/plain": [
       "           Volume     Avg Price  Total Sales Value  Discount Rate (%)  \\\n",
       "count  450.000000    450.000000         450.000000         450.000000   \n",
       "mean     5.066667  10453.433333       33812.835556          15.155242   \n",
       "std      4.231602  18079.904840       50535.074173           4.220602   \n",
       "min      1.000000    290.000000         400.000000           5.007822   \n",
       "25%      3.000000    465.000000        2700.000000          13.965063   \n",
       "50%      4.000000   1450.000000        5700.000000          16.577766   \n",
       "75%      6.000000  10100.000000       53200.000000          18.114718   \n",
       "max     31.000000  60100.000000      196400.000000          19.992407   \n",
       "\n",
       "       Discount Amount  Net Sales Value  \n",
       "count       450.000000       450.000000  \n",
       "mean       3346.499424     30466.336131  \n",
       "std        4509.902963     46358.656624  \n",
       "min          69.177942       326.974801  \n",
       "25%         460.459304      2202.208645  \n",
       "50%         988.933733      4677.788059  \n",
       "75%        5316.495427     47847.912852  \n",
       "max       25738.022194    179507.479049  "
      ]
     },
     "execution_count": 4,
     "metadata": {},
     "output_type": "execute_result"
    }
   ],
   "source": [
    "data.describe()"
   ]
  },
  {
   "cell_type": "code",
   "execution_count": 5,
   "id": "6cb65ad5",
   "metadata": {},
   "outputs": [
    {
     "data": {
      "text/plain": [
       "Volume                   5.066667\n",
       "Avg Price            10453.433333\n",
       "Total Sales Value    33812.835556\n",
       "Discount Rate (%)       15.155242\n",
       "Discount Amount       3346.499424\n",
       "Net Sales Value      30466.336131\n",
       "dtype: float64"
      ]
     },
     "execution_count": 5,
     "metadata": {},
     "output_type": "execute_result"
    }
   ],
   "source": [
    "data.mean()"
   ]
  },
  {
   "cell_type": "code",
   "execution_count": 6,
   "id": "7fa46815",
   "metadata": {},
   "outputs": [
    {
     "data": {
      "text/plain": [
       "Volume                  4.000000\n",
       "Avg Price            1450.000000\n",
       "Total Sales Value    5700.000000\n",
       "Discount Rate (%)      16.577766\n",
       "Discount Amount       988.933733\n",
       "Net Sales Value      4677.788059\n",
       "dtype: float64"
      ]
     },
     "execution_count": 6,
     "metadata": {},
     "output_type": "execute_result"
    }
   ],
   "source": [
    "data.median()"
   ]
  },
  {
   "cell_type": "code",
   "execution_count": 7,
   "id": "35f2c64b",
   "metadata": {},
   "outputs": [
    {
     "data": {
      "text/plain": [
       "Volume                   3.000000\n",
       "Avg Price              400.000000\n",
       "Total Sales Value    24300.000000\n",
       "Discount Rate (%)        5.007822\n",
       "Discount Amount         69.177942\n",
       "Net Sales Value        326.974801\n",
       "Name: 0, dtype: float64"
      ]
     },
     "execution_count": 7,
     "metadata": {},
     "output_type": "execute_result"
    }
   ],
   "source": [
    "mode_values = data.select_dtypes(include=['number']).mode().iloc[0]\n",
    "mode_values"
   ]
  },
  {
   "cell_type": "code",
   "execution_count": 8,
   "id": "3450a67c",
   "metadata": {},
   "outputs": [
    {
     "data": {
      "text/plain": [
       "Volume                   4.231602\n",
       "Avg Price            18079.904840\n",
       "Total Sales Value    50535.074173\n",
       "Discount Rate (%)        4.220602\n",
       "Discount Amount       4509.902963\n",
       "Net Sales Value      46358.656624\n",
       "dtype: float64"
      ]
     },
     "execution_count": 8,
     "metadata": {},
     "output_type": "execute_result"
    }
   ],
   "source": [
    "data.std()"
   ]
  },
  {
   "cell_type": "markdown",
   "id": "c6bc50a6",
   "metadata": {},
   "source": [
    "### Data Visualization"
   ]
  },
  {
   "cell_type": "code",
   "execution_count": 9,
   "id": "98974842",
   "metadata": {},
   "outputs": [
    {
     "data": {
      "image/png": "[encoded data removed]",
      "text/plain": [
       "<Figure size 720x576 with 6 Axes>"
      ]
     },
     "metadata": {
      "needs_background": "light"
     },
     "output_type": "display_data"
    }
   ],
   "source": [
    "# Plot histogram for each numerical column\n",
    "data.hist(figsize=(10, 8)) \n",
    "plt.tight_layout() \n",
    "plt.show()"
   ]
  },
  {
   "cell_type": "code",
   "execution_count": 10,
   "id": "ee08353e",
   "metadata": {},
   "outputs": [
    {
     "data": {
      "text/plain": [
       "Volume               2.731724\n",
       "Avg Price            1.908873\n",
       "Total Sales Value    1.534729\n",
       "Discount Rate (%)   -1.062294\n",
       "Discount Amount      1.913038\n",
       "Net Sales Value      1.540822\n",
       "dtype: float64"
      ]
     },
     "execution_count": 10,
     "metadata": {},
     "output_type": "execute_result"
    }
   ],
   "source": [
    "skewness = data.skew()\n",
    "skewness"
   ]
  },
  {
   "cell_type": "code",
   "execution_count": 12,
   "id": "71b22913",
   "metadata": {},
   "outputs": [
    {
     "data": {
      "image/png": "[encoded data removed]",
      "text/plain": [
       "<Figure size 1152x864 with 1 Axes>"
      ]
     },
     "metadata": {
      "needs_background": "light"
     },
     "output_type": "display_data"
    }
   ],
   "source": [
    "# Plot boxplot for each numerical column\n",
    "data.boxplot(figsize=(16, 12)) \n",
    "plt.tight_layout() \n",
    "plt.show()"
   ]
  },
  {
   "cell_type": "markdown",
   "id": "199f8e37",
   "metadata": {},
   "source": [
    "### Bar Chart for Categorical Columns"
   ]
  },
  {
   "cell_type": "code",
   "execution_count": 18,
   "id": "dcbbaa4b",
   "metadata": {},
   "outputs": [
    {
     "data": {
      "text/plain": [
       "Index(['Date', 'Day', 'SKU', 'City', 'BU', 'Brand', 'Model'], dtype='object')"
      ]
     },
     "execution_count": 18,
     "metadata": {},
     "output_type": "execute_result"
    }
   ],
   "source": [
    "Categorical_columns = data.select_dtypes(include=['object']).columns\n",
    "Categorical_columns"
   ]
  },
  {
   "cell_type": "code",
   "execution_count": 21,
   "id": "5bacc2c5",
   "metadata": {},
   "outputs": [
    {
     "data": {
      "image/png": "[encoded data removed]",
      "text/plain": [
       "<Figure size 720x576 with 1 Axes>"
      ]
     },
     "metadata": {
      "needs_background": "light"
     },
     "output_type": "display_data"
    },
    {
     "data": {
      "image/png": "[encoded data removed]",
      "text/plain": [
       "<Figure size 432x288 with 1 Axes>"
      ]
     },
     "metadata": {
      "needs_background": "light"
     },
     "output_type": "display_data"
    },
    {
     "data": {
      "image/png": "[encoded data removed]",
      "text/plain": [
       "<Figure size 432x288 with 1 Axes>"
      ]
     },
     "metadata": {
      "needs_background": "light"
     },
     "output_type": "display_data"
    },
    {
     "data": {
      "image/png": "[encoded data removed]",
      "text/plain": [
       "<Figure size 432x288 with 1 Axes>"
      ]
     },
     "metadata": {
      "needs_background": "light"
     },
     "output_type": "display_data"
    },
    {
     "data": {
      "image/png": "[encoded data removed]",
      "text/plain": [
       "<Figure size 432x288 with 1 Axes>"
      ]
     },
     "metadata": {
      "needs_background": "light"
     },
     "output_type": "display_data"
    },
    {
     "data": {
      "image/png": "[encoded data removed]",
      "text/plain": [
       "<Figure size 432x288 with 1 Axes>"
      ]
     },
     "metadata": {
      "needs_background": "light"
     },
     "output_type": "display_data"
    },
    {
     "data": {
      "image/png": "[encoded data removed]",
      "text/plain": [
       "<Figure size 432x288 with 1 Axes>"
      ]
     },
     "metadata": {
      "needs_background": "light"
     },
     "output_type": "display_data"
    }
   ],
   "source": [
    "plt.figure(figsize=(10, 8))\n",
    "for col in Categorical_columns:\n",
    "    data[col].value_counts().plot(kind='bar', title=col)\n",
    "    plt.show()"
   ]
  },
  {
   "cell_type": "markdown",
   "id": "3778f395",
   "metadata": {},
   "source": [
    "### Standardization of Numerical Variables"
   ]
  },
  {
   "cell_type": "code",
   "execution_count": 22,
   "id": "4a6eea2e",
   "metadata": {},
   "outputs": [],
   "source": [
    "for col in numerical_columns:\n",
    "    data[col + '_standardized'] = (data[col] - data[col].mean()) / data[col].std()"
   ]
  },
  {
   "cell_type": "code",
   "execution_count": 23,
   "id": "5c660d42",
   "metadata": {},
   "outputs": [
    {
     "data": {
      "text/plain": [
       "0      2.801638\n",
       "1      1.269613\n",
       "2      1.543957\n",
       "3      1.763847\n",
       "4     -0.227342\n",
       "         ...   \n",
       "445   -0.609783\n",
       "446   -0.378079\n",
       "447   -0.601252\n",
       "448   -0.554881\n",
       "449   -0.600571\n",
       "Name: Net Sales Value_standardized, Length: 450, dtype: float64"
      ]
     },
     "execution_count": 23,
     "metadata": {},
     "output_type": "execute_result"
    }
   ],
   "source": [
    "data[col + '_standardized']"
   ]
  },
  {
   "cell_type": "markdown",
   "id": "12b8af44",
   "metadata": {},
   "source": [
    "### Conversion of Categorical Data into Dummy Variables"
   ]
  },
  {
   "cell_type": "code",
   "execution_count": 27,
   "id": "cd9b4cbd",
   "metadata": {},
   "outputs": [],
   "source": [
    "# Apply one-hot encoding\n",
    "data_encoded = pd.get_dummies(data, columns=['SKU', 'City', 'BU', 'Brand', 'Model'])"
   ]
  },
  {
   "cell_type": "code",
   "execution_count": 28,
   "id": "8a7fcfc5",
   "metadata": {},
   "outputs": [
    {
     "name": "stdout",
     "output_type": "stream",
     "text": [
      "\n",
      "Transformed DataFrame with One-Hot Encoding:\n",
      "           Date       Day  Volume  Avg Price  Total Sales Value  \\\n",
      "0    01-04-2021  Thursday      15      12100             181500   \n",
      "1    01-04-2021  Thursday      10      10100             101000   \n",
      "2    01-04-2021  Thursday       7      16100             112700   \n",
      "3    01-04-2021  Thursday       6      20100             120600   \n",
      "4    01-04-2021  Thursday       3       8100              24300   \n",
      "..          ...       ...     ...        ...                ...   \n",
      "445  15-04-2021  Thursday       2       1300               2600   \n",
      "446  15-04-2021  Thursday       6       2600              15600   \n",
      "447  15-04-2021  Thursday       2       1600               3200   \n",
      "448  15-04-2021  Thursday       3       1900               5700   \n",
      "449  15-04-2021  Thursday       1       3100               3100   \n",
      "\n",
      "     Discount Rate (%)  Discount Amount  Net Sales Value  Volume_standardized  \\\n",
      "0            11.654820     21153.498820    160346.501180             2.347417   \n",
      "1            11.560498     11676.102961     89323.897039             1.165831   \n",
      "2             9.456886     10657.910157    102042.089843             0.456880   \n",
      "3             6.935385      8364.074702    112235.925298             0.220563   \n",
      "4            17.995663      4372.946230     19927.053770            -0.488389   \n",
      "..                 ...              ...              ...                  ...   \n",
      "445          15.475687       402.367873      2197.632127            -0.724706   \n",
      "446          17.057027      2660.896242     12939.103758             0.220563   \n",
      "447          18.965550       606.897606      2593.102394            -0.724706   \n",
      "448          16.793014       957.201826      4742.798174            -0.488389   \n",
      "449          15.333300       475.332295      2624.667705            -0.961023   \n",
      "\n",
      "     Avg Price_standardized  ...  Model_Vedic Cream  Model_Vedic Oil  \\\n",
      "0                  0.091072  ...                  0                0   \n",
      "1                 -0.019548  ...                  0                0   \n",
      "2                  0.312312  ...                  0                0   \n",
      "3                  0.533552  ...                  0                0   \n",
      "4                 -0.130168  ...                  0                0   \n",
      "..                      ...  ...                ...              ...   \n",
      "445               -0.506277  ...                  0                0   \n",
      "446               -0.434374  ...                  0                0   \n",
      "447               -0.489684  ...                  0                0   \n",
      "448               -0.473091  ...                  0                0   \n",
      "449               -0.406719  ...                  0                0   \n",
      "\n",
      "     Model_Vedic Shampoo  Model_W-Casuals  Model_W-Inners  Model_W-Lounge  \\\n",
      "0                      0                0               0               0   \n",
      "1                      0                0               0               0   \n",
      "2                      0                0               0               0   \n",
      "3                      0                0               0               0   \n",
      "4                      0                0               0               0   \n",
      "..                   ...              ...             ...             ...   \n",
      "445                    0                0               0               0   \n",
      "446                    0                0               0               0   \n",
      "447                    0                0               0               1   \n",
      "448                    0                0               0               0   \n",
      "449                    0                0               0               0   \n",
      "\n",
      "     Model_W-Western  Model_YM-98   Model_YM-99  Model_YM-99 Plus  \n",
      "0                  0             0            0                 0  \n",
      "1                  0             0            0                 0  \n",
      "2                  0             0            1                 0  \n",
      "3                  0             0            0                 1  \n",
      "4                  0             1            0                 0  \n",
      "..               ...           ...          ...               ...  \n",
      "445                0             0            0                 0  \n",
      "446                1             0            0                 0  \n",
      "447                0             0            0                 0  \n",
      "448                0             0            0                 0  \n",
      "449                0             0            0                 0  \n",
      "\n",
      "[450 rows x 87 columns]\n"
     ]
    }
   ],
   "source": [
    "# Display transformed DataFrame\n",
    "print(\"\\nTransformed DataFrame with One-Hot Encoding:\")\n",
    "print(data_encoded)"
   ]
  },
  {
   "cell_type": "code",
   "execution_count": null,
   "id": "24008e4f",
   "metadata": {},
   "outputs": [],
   "source": []
  }
 ],
 "metadata": {
  "kernelspec": {
   "display_name": "Python 3",
   "language": "python",
   "name": "python3"
  },
  "language_info": {
   "codemirror_mode": {
    "name": "ipython",
    "version": 3
   },
   "file_extension": ".py",
   "mimetype": "text/x-python",
   "name": "python",
   "nbconvert_exporter": "python",
   "pygments_lexer": "ipython3",
   "version": "3.8.5"
  }
 },
 "nbformat": 4,
 "nbformat_minor": 5
}
