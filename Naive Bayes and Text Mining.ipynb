{
 "cells": [
  {
   "cell_type": "markdown",
   "id": "ed5254b7",
   "metadata": {},
   "source": [
    "### 1. Data Exploration and Preprocessing"
   ]
  },
  {
   "cell_type": "code",
   "execution_count": 1,
   "id": "36123bfb",
   "metadata": {},
   "outputs": [],
   "source": [
    "import pandas as pd\n",
    "import numpy as np\n",
    "import matplotlib.pyplot as plt\n",
    "import seaborn as sns\n",
    "from sklearn.model_selection import train_test_split\n",
    "from sklearn.feature_extraction.text import TfidfVectorizer\n",
    "from sklearn.naive_bayes import MultinomialNB\n",
    "from sklearn.metrics import accuracy_score, precision_score, recall_score, f1_score, confusion_matrix, classification_report\n",
    "from nltk.corpus import stopwords\n",
    "from nltk.tokenize import word_tokenize\n",
    "from nltk.stem import WordNetLemmatizer\n",
    "import string\n",
    "import re\n",
    "import nltk"
   ]
  },
  {
   "cell_type": "code",
   "execution_count": 2,
   "id": "5f40b059",
   "metadata": {},
   "outputs": [
    {
     "name": "stderr",
     "output_type": "stream",
     "text": [
      "[nltk_data] Downloading package punkt to\n",
      "[nltk_data]     C:\\Users\\HP\\AppData\\Roaming\\nltk_data...\n",
      "[nltk_data]   Unzipping tokenizers\\punkt.zip.\n",
      "[nltk_data] Downloading package stopwords to\n",
      "[nltk_data]     C:\\Users\\HP\\AppData\\Roaming\\nltk_data...\n",
      "[nltk_data]   Package stopwords is already up-to-date!\n",
      "[nltk_data] Downloading package wordnet to\n",
      "[nltk_data]     C:\\Users\\HP\\AppData\\Roaming\\nltk_data...\n",
      "[nltk_data]   Package wordnet is already up-to-date!\n"
     ]
    },
    {
     "data": {
      "text/plain": [
       "True"
      ]
     },
     "execution_count": 2,
     "metadata": {},
     "output_type": "execute_result"
    }
   ],
   "source": [
    "nltk.download('punkt')\n",
    "nltk.download('stopwords')\n",
    "nltk.download('wordnet')"
   ]
  },
  {
   "cell_type": "code",
   "execution_count": 3,
   "id": "2c9a7eb1",
   "metadata": {},
   "outputs": [],
   "source": [
    "# Load the dataset\n",
    "df = pd.read_csv(\"blogs_categories.csv\")"
   ]
  },
  {
   "cell_type": "code",
   "execution_count": 4,
   "id": "9699a16a",
   "metadata": {},
   "outputs": [
    {
     "name": "stdout",
     "output_type": "stream",
     "text": [
      "   Unnamed: 0                                               Data       Labels\n",
      "0           0  Xref: cantaloupe.srv.cs.cmu.edu alt.atheism:49...  alt.atheism\n",
      "1           1  Xref: cantaloupe.srv.cs.cmu.edu alt.atheism:51...  alt.atheism\n",
      "2           2  Newsgroups: alt.atheism\\nPath: cantaloupe.srv....  alt.atheism\n",
      "3           3  Xref: cantaloupe.srv.cs.cmu.edu alt.atheism:51...  alt.atheism\n",
      "4           4  Xref: cantaloupe.srv.cs.cmu.edu alt.atheism:51...  alt.atheism\n"
     ]
    }
   ],
   "source": [
    "# Exploratory Data Analysis\n",
    "print(df.head())"
   ]
  },
  {
   "cell_type": "code",
   "execution_count": 5,
   "id": "a34137a6",
   "metadata": {},
   "outputs": [
    {
     "name": "stdout",
     "output_type": "stream",
     "text": [
      "<class 'pandas.core.frame.DataFrame'>\n",
      "RangeIndex: 19997 entries, 0 to 19996\n",
      "Data columns (total 3 columns):\n",
      " #   Column      Non-Null Count  Dtype \n",
      "---  ------      --------------  ----- \n",
      " 0   Unnamed: 0  19997 non-null  int64 \n",
      " 1   Data        19997 non-null  object\n",
      " 2   Labels      19997 non-null  object\n",
      "dtypes: int64(1), object(2)\n",
      "memory usage: 468.8+ KB\n",
      "None\n"
     ]
    }
   ],
   "source": [
    "print(df.info())"
   ]
  },
  {
   "cell_type": "code",
   "execution_count": 6,
   "id": "030ed805",
   "metadata": {},
   "outputs": [
    {
     "name": "stdout",
     "output_type": "stream",
     "text": [
      "         Unnamed: 0\n",
      "count  19997.000000\n",
      "mean    9998.000000\n",
      "std     5772.781002\n",
      "min        0.000000\n",
      "25%     4999.000000\n",
      "50%     9998.000000\n",
      "75%    14997.000000\n",
      "max    19996.000000\n"
     ]
    }
   ],
   "source": [
    "print(df.describe())"
   ]
  },
  {
   "cell_type": "code",
   "execution_count": 7,
   "id": "2e865ab4",
   "metadata": {},
   "outputs": [
    {
     "name": "stdout",
     "output_type": "stream",
     "text": [
      "alt.atheism                 1000\n",
      "comp.graphics               1000\n",
      "talk.politics.misc          1000\n",
      "talk.politics.mideast       1000\n",
      "talk.politics.guns          1000\n",
      "sci.space                   1000\n",
      "sci.med                     1000\n",
      "sci.electronics             1000\n",
      "sci.crypt                   1000\n",
      "rec.sport.hockey            1000\n",
      "rec.sport.baseball          1000\n",
      "rec.motorcycles             1000\n",
      "rec.autos                   1000\n",
      "misc.forsale                1000\n",
      "comp.windows.x              1000\n",
      "comp.sys.mac.hardware       1000\n",
      "comp.sys.ibm.pc.hardware    1000\n",
      "comp.os.ms-windows.misc     1000\n",
      "talk.religion.misc          1000\n",
      "soc.religion.christian       997\n",
      "Name: Labels, dtype: int64\n"
     ]
    }
   ],
   "source": [
    "print(df['Labels'].value_counts())"
   ]
  },
  {
   "cell_type": "code",
   "execution_count": 8,
   "id": "fecfb634",
   "metadata": {},
   "outputs": [
    {
     "name": "stdout",
     "output_type": "stream",
     "text": [
      "Unnamed: 0    0\n",
      "Data          0\n",
      "Labels        0\n",
      "dtype: int64\n"
     ]
    }
   ],
   "source": [
    "# Check for missing values\n",
    "print(df.isnull().sum())"
   ]
  },
  {
   "cell_type": "code",
   "execution_count": 9,
   "id": "ffc5a9ce",
   "metadata": {},
   "outputs": [],
   "source": [
    "# Preprocessing\n",
    "stop_words = set(stopwords.words('english'))\n",
    "lemmatizer = WordNetLemmatizer()"
   ]
  },
  {
   "cell_type": "code",
   "execution_count": 10,
   "id": "12766a3b",
   "metadata": {},
   "outputs": [],
   "source": [
    "def preprocess_text(text):\n",
    "    # Remove punctuation\n",
    "    text = text.translate(str.maketrans('', '', string.punctuation))\n",
    "    # Convert to lowercase\n",
    "    text = text.lower()\n",
    "    # Tokenize\n",
    "    words = word_tokenize(text)\n",
    "    # Remove stopwords and lemmatize\n",
    "    words = [lemmatizer.lemmatize(word) for word in words if word not in stop_words]\n",
    "    return ' '.join(words)\n"
   ]
  },
  {
   "cell_type": "code",
   "execution_count": 11,
   "id": "1a76bc07",
   "metadata": {},
   "outputs": [],
   "source": [
    "df['Data'] = df['Data'].apply(preprocess_text)"
   ]
  },
  {
   "cell_type": "code",
   "execution_count": 12,
   "id": "4048d088",
   "metadata": {},
   "outputs": [],
   "source": [
    "# Feature Extraction using TF-IDF\n",
    "tfidf_vectorizer = TfidfVectorizer()\n",
    "X = tfidf_vectorizer.fit_transform(df['Data'])\n",
    "y = df['Labels']"
   ]
  },
  {
   "cell_type": "code",
   "execution_count": 13,
   "id": "7ef9263a",
   "metadata": {},
   "outputs": [],
   "source": [
    "# Split the data into training and test sets\n",
    "X_train, X_test, y_train, y_test = train_test_split(X, y, test_size=0.2, random_state=42)"
   ]
  },
  {
   "cell_type": "markdown",
   "id": "b95cf990",
   "metadata": {},
   "source": [
    "### 2. Naive Bayes Model for Text Classification"
   ]
  },
  {
   "cell_type": "code",
   "execution_count": 14,
   "id": "5af51b24",
   "metadata": {},
   "outputs": [
    {
     "data": {
      "text/plain": [
       "MultinomialNB()"
      ]
     },
     "execution_count": 14,
     "metadata": {},
     "output_type": "execute_result"
    }
   ],
   "source": [
    "# Implement Naive Bayes Classifier\n",
    "nb_classifier = MultinomialNB()\n",
    "nb_classifier.fit(X_train, y_train)"
   ]
  },
  {
   "cell_type": "code",
   "execution_count": 15,
   "id": "8e1561a7",
   "metadata": {},
   "outputs": [],
   "source": [
    "# Make predictions on the test set\n",
    "y_pred = nb_classifier.predict(X_test)"
   ]
  },
  {
   "cell_type": "markdown",
   "id": "7c8bd9ba",
   "metadata": {},
   "source": [
    "### 3. Sentiment Analysis"
   ]
  },
  {
   "cell_type": "code",
   "execution_count": 18,
   "id": "eef18f54",
   "metadata": {},
   "outputs": [],
   "source": [
    "from textblob import TextBlob"
   ]
  },
  {
   "cell_type": "code",
   "execution_count": 19,
   "id": "0326f7ca",
   "metadata": {},
   "outputs": [],
   "source": [
    "def get_sentiment(text):\n",
    "    analysis = TextBlob(text)\n",
    "    if analysis.sentiment.polarity > 0:\n",
    "        return 'positive'\n",
    "    elif analysis.sentiment.polarity == 0:\n",
    "        return 'neutral'\n",
    "    else:\n",
    "        return 'negative'"
   ]
  },
  {
   "cell_type": "code",
   "execution_count": 20,
   "id": "0a1cbab0",
   "metadata": {},
   "outputs": [],
   "source": [
    "df['Sentiment'] = df['Data'].apply(get_sentiment)"
   ]
  },
  {
   "cell_type": "code",
   "execution_count": 21,
   "id": "2a6849e8",
   "metadata": {},
   "outputs": [
    {
     "name": "stdout",
     "output_type": "stream",
     "text": [
      "Sentiment                 negative  neutral  positive\n",
      "Labels                                               \n",
      "alt.atheism               0.286000    0.000  0.714000\n",
      "comp.graphics             0.260000    0.001  0.739000\n",
      "comp.os.ms-windows.misc   0.260000    0.001  0.739000\n",
      "comp.sys.ibm.pc.hardware  0.252000    0.001  0.747000\n",
      "comp.sys.mac.hardware     0.264000    0.000  0.736000\n",
      "comp.windows.x            0.282000    0.005  0.713000\n",
      "misc.forsale              0.248000    0.000  0.752000\n",
      "rec.autos                 0.244000    0.002  0.754000\n",
      "rec.motorcycles           0.332000    0.000  0.668000\n",
      "rec.sport.baseball        0.327000    0.000  0.673000\n",
      "rec.sport.hockey          0.373000    0.000  0.627000\n",
      "sci.crypt                 0.274000    0.000  0.726000\n",
      "sci.electronics           0.251000    0.000  0.749000\n",
      "sci.med                   0.278000    0.002  0.720000\n",
      "sci.space                 0.271000    0.001  0.728000\n",
      "soc.religion.christian    0.225677    0.000  0.774323\n",
      "talk.politics.guns        0.387000    0.001  0.612000\n",
      "talk.politics.mideast     0.347000    0.002  0.651000\n",
      "talk.politics.misc        0.298000    0.003  0.699000\n",
      "talk.religion.misc        0.284000    0.000  0.716000\n"
     ]
    }
   ],
   "source": [
    "# Analyze the distribution of sentiments\n",
    "sentiment_distribution = df.groupby('Labels')['Sentiment'].value_counts(normalize=True).unstack().fillna(0)\n",
    "print(sentiment_distribution)"
   ]
  },
  {
   "cell_type": "markdown",
   "id": "0efe27a3",
   "metadata": {},
   "source": [
    "### 4. Evaluation"
   ]
  },
  {
   "cell_type": "code",
   "execution_count": 22,
   "id": "a86fcf7b",
   "metadata": {},
   "outputs": [],
   "source": [
    "# Evaluate the Naive Bayes Classifier\n",
    "accuracy = accuracy_score(y_test, y_pred)\n",
    "precision = precision_score(y_test, y_pred, average='weighted')\n",
    "recall = recall_score(y_test, y_pred, average='weighted')\n",
    "f1 = f1_score(y_test, y_pred, average='weighted')"
   ]
  },
  {
   "cell_type": "code",
   "execution_count": 23,
   "id": "712aa209",
   "metadata": {},
   "outputs": [
    {
     "name": "stdout",
     "output_type": "stream",
     "text": [
      "Accuracy: 0.89425\n",
      "Precision: 0.8934047603502218\n",
      "Recall: 0.89425\n",
      "F1-score: 0.8926119876486682\n",
      "\n",
      "Classification Report:\n",
      "                           precision    recall  f1-score   support\n",
      "\n",
      "             alt.atheism       0.72      0.79      0.76       173\n",
      "           comp.graphics       0.86      0.90      0.88       179\n",
      " comp.os.ms-windows.misc       0.94      0.87      0.90       226\n",
      "comp.sys.ibm.pc.hardware       0.84      0.84      0.84       204\n",
      "   comp.sys.mac.hardware       0.89      0.96      0.92       205\n",
      "          comp.windows.x       0.97      0.94      0.95       186\n",
      "            misc.forsale       0.90      0.78      0.83       190\n",
      "               rec.autos       0.91      0.94      0.92       203\n",
      "         rec.motorcycles       1.00      0.97      0.98       218\n",
      "      rec.sport.baseball       0.99      0.98      0.99       192\n",
      "        rec.sport.hockey       0.98      0.99      0.98       203\n",
      "               sci.crypt       0.88      0.98      0.93       200\n",
      "         sci.electronics       0.94      0.89      0.91       227\n",
      "                 sci.med       1.00      0.94      0.97       196\n",
      "               sci.space       0.97      0.97      0.97       205\n",
      "  soc.religion.christian       0.89      1.00      0.94       215\n",
      "      talk.politics.guns       0.85      0.91      0.88       205\n",
      "   talk.politics.mideast       0.92      0.94      0.93       197\n",
      "      talk.politics.misc       0.75      0.76      0.76       200\n",
      "      talk.religion.misc       0.60      0.47      0.53       176\n",
      "\n",
      "                accuracy                           0.89      4000\n",
      "               macro avg       0.89      0.89      0.89      4000\n",
      "            weighted avg       0.89      0.89      0.89      4000\n",
      "\n"
     ]
    }
   ],
   "source": [
    "print(f'Accuracy: {accuracy}')\n",
    "print(f'Precision: {precision}')\n",
    "print(f'Recall: {recall}')\n",
    "print(f'F1-score: {f1}')\n",
    "print('\\nClassification Report:\\n', classification_report(y_test, y_pred))"
   ]
  },
  {
   "cell_type": "code",
   "execution_count": 24,
   "id": "9c493808",
   "metadata": {},
   "outputs": [
    {
     "data": {
      "image/png": "[encoded data removed]",
      "text/plain": [
       "<Figure size 720x504 with 2 Axes>"
      ]
     },
     "metadata": {
      "needs_background": "light"
     },
     "output_type": "display_data"
    }
   ],
   "source": [
    "# Confusion Matrix\n",
    "conf_matrix = confusion_matrix(y_test, y_pred)\n",
    "plt.figure(figsize=(10,7))\n",
    "sns.heatmap(conf_matrix, annot=True, fmt='d', cmap='Blues', xticklabels=nb_classifier.classes_, yticklabels=nb_classifier.classes_)\n",
    "plt.xlabel('Predicted')\n",
    "plt.ylabel('True')\n",
    "plt.title('Confusion Matrix')\n",
    "plt.show()"
   ]
  },
  {
   "cell_type": "code",
   "execution_count": null,
   "id": "6c5bf4cf",
   "metadata": {},
   "outputs": [],
   "source": []
  }
 ],
 "metadata": {
  "kernelspec": {
   "display_name": "Python 3",
   "language": "python",
   "name": "python3"
  },
  "language_info": {
   "codemirror_mode": {
    "name": "ipython",
    "version": 3
   },
   "file_extension": ".py",
   "mimetype": "text/x-python",
   "name": "python",
   "nbconvert_exporter": "python",
   "pygments_lexer": "ipython3",
   "version": "3.8.5"
  }
 },
 "nbformat": 4,
 "nbformat_minor": 5
}
