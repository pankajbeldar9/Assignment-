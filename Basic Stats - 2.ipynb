{
 "cells": [
  {
   "cell_type": "markdown",
   "id": "3fc5e5f7",
   "metadata": {},
   "source": [
    "### Build 99% Confidence Interval Using Sample Standard Deviation"
   ]
  },
  {
   "cell_type": "markdown",
   "id": "f6651520",
   "metadata": {},
   "source": [
    "Assuming the sample is representative of the population, construct a 99% confidence interval for the mean number of characters printed before the print-head fails using the sample standard deviation. Explain the steps you take and the rationale behind using the t-distribution for this task."
   ]
  },
  {
   "cell_type": "code",
   "execution_count": 1,
   "id": "6f6a63ba",
   "metadata": {},
   "outputs": [],
   "source": [
    "import numpy as np\n",
    "from scipy.stats import t"
   ]
  },
  {
   "cell_type": "code",
   "execution_count": 2,
   "id": "223a8853",
   "metadata": {},
   "outputs": [],
   "source": [
    "durability_data = np.array([1.13, 1.55, 1.43, 0.92, 1.25, 1.36, 1.32, 0.85, 1.07, 1.48, 1.20, 1.33, 1.18, 1.22, 1.29])"
   ]
  },
  {
   "cell_type": "code",
   "execution_count": 3,
   "id": "da5f5736",
   "metadata": {},
   "outputs": [
    {
     "data": {
      "text/plain": [
       "array([1.13, 1.55, 1.43, 0.92, 1.25, 1.36, 1.32, 0.85, 1.07, 1.48, 1.2 ,\n",
       "       1.33, 1.18, 1.22, 1.29])"
      ]
     },
     "execution_count": 3,
     "metadata": {},
     "output_type": "execute_result"
    }
   ],
   "source": [
    "durability_data"
   ]
  },
  {
   "cell_type": "code",
   "execution_count": 4,
   "id": "ab9ec8ba",
   "metadata": {},
   "outputs": [],
   "source": [
    "n = len(durability_data)"
   ]
  },
  {
   "cell_type": "code",
   "execution_count": 5,
   "id": "8f4df606",
   "metadata": {},
   "outputs": [
    {
     "data": {
      "text/plain": [
       "15"
      ]
     },
     "execution_count": 5,
     "metadata": {},
     "output_type": "execute_result"
    }
   ],
   "source": [
    "n"
   ]
  },
  {
   "cell_type": "code",
   "execution_count": 8,
   "id": "8627a67b",
   "metadata": {},
   "outputs": [],
   "source": [
    "sample_mean = durability_data.mean()"
   ]
  },
  {
   "cell_type": "code",
   "execution_count": 9,
   "id": "13792d8c",
   "metadata": {},
   "outputs": [
    {
     "data": {
      "text/plain": [
       "1.2386666666666666"
      ]
     },
     "execution_count": 9,
     "metadata": {},
     "output_type": "execute_result"
    }
   ],
   "source": [
    "sample_mean"
   ]
  },
  {
   "cell_type": "code",
   "execution_count": 12,
   "id": "f2d7f581",
   "metadata": {},
   "outputs": [],
   "source": [
    "sample_std = np.std(durability_data, ddof=1)  # Using sample standard deviation"
   ]
  },
  {
   "cell_type": "code",
   "execution_count": 13,
   "id": "68526e6d",
   "metadata": {},
   "outputs": [
    {
     "data": {
      "text/plain": [
       "0.19316412956959936"
      ]
     },
     "execution_count": 13,
     "metadata": {},
     "output_type": "execute_result"
    }
   ],
   "source": [
    "sample_std"
   ]
  },
  {
   "cell_type": "code",
   "execution_count": 14,
   "id": "63ff70af",
   "metadata": {},
   "outputs": [],
   "source": [
    "confidence_level = 0.99\n",
    "alpha = 1 - confidence_level\n",
    "df = n - 1"
   ]
  },
  {
   "cell_type": "code",
   "execution_count": 15,
   "id": "76b09c26",
   "metadata": {},
   "outputs": [
    {
     "data": {
      "text/plain": [
       "0.010000000000000009"
      ]
     },
     "execution_count": 15,
     "metadata": {},
     "output_type": "execute_result"
    }
   ],
   "source": [
    "alpha"
   ]
  },
  {
   "cell_type": "code",
   "execution_count": 16,
   "id": "750008ea",
   "metadata": {},
   "outputs": [
    {
     "data": {
      "text/plain": [
       "14"
      ]
     },
     "execution_count": 16,
     "metadata": {},
     "output_type": "execute_result"
    }
   ],
   "source": [
    "df"
   ]
  },
  {
   "cell_type": "code",
   "execution_count": 17,
   "id": "3064075d",
   "metadata": {},
   "outputs": [],
   "source": [
    "#Critical value from t-distribution\n",
    "t_critical = t.ppf(1 - alpha/2, df)"
   ]
  },
  {
   "cell_type": "code",
   "execution_count": 18,
   "id": "212f06b5",
   "metadata": {},
   "outputs": [
    {
     "data": {
      "text/plain": [
       "2.97684273411266"
      ]
     },
     "execution_count": 18,
     "metadata": {},
     "output_type": "execute_result"
    }
   ],
   "source": [
    "t_critical"
   ]
  },
  {
   "cell_type": "code",
   "execution_count": 19,
   "id": "bae01512",
   "metadata": {},
   "outputs": [],
   "source": [
    "#Margin of error\n",
    "margin_of_error = t_critical * (sample_std / np.sqrt(n))"
   ]
  },
  {
   "cell_type": "code",
   "execution_count": 20,
   "id": "7dc0ab73",
   "metadata": {},
   "outputs": [
    {
     "data": {
      "text/plain": [
       "0.1484693282152996"
      ]
     },
     "execution_count": 20,
     "metadata": {},
     "output_type": "execute_result"
    }
   ],
   "source": [
    "margin_of_error"
   ]
  },
  {
   "cell_type": "code",
   "execution_count": 21,
   "id": "9d05890b",
   "metadata": {},
   "outputs": [],
   "source": [
    "#Confidence interval\n",
    "confidence_interval = (sample_mean - margin_of_error, sample_mean + margin_of_error)"
   ]
  },
  {
   "cell_type": "code",
   "execution_count": 22,
   "id": "ec63045c",
   "metadata": {},
   "outputs": [
    {
     "data": {
      "text/plain": [
       "(1.090197338451367, 1.3871359948819662)"
      ]
     },
     "execution_count": 22,
     "metadata": {},
     "output_type": "execute_result"
    }
   ],
   "source": [
    "confidence_interval"
   ]
  },
  {
   "cell_type": "code",
   "execution_count": 23,
   "id": "d347acad",
   "metadata": {},
   "outputs": [
    {
     "name": "stdout",
     "output_type": "stream",
     "text": [
      "99% Confidence Interval using Sample Standard Deviation:\n",
      "Lower Bound: 1.090197338451367\n",
      "Upper Bound: 1.3871359948819662\n"
     ]
    }
   ],
   "source": [
    "print(\"99% Confidence Interval using Sample Standard Deviation:\")\n",
    "print(\"Lower Bound:\", confidence_interval[0])\n",
    "print(\"Upper Bound:\", confidence_interval[1])"
   ]
  },
  {
   "cell_type": "markdown",
   "id": "d2de2dc9",
   "metadata": {},
   "source": [
    "### Build 99% Confidence Interval Using Known Population Standard Deviation"
   ]
  },
  {
   "cell_type": "markdown",
   "id": "c9e93b60",
   "metadata": {},
   "source": [
    "If it were known that the population standard deviation is 0.2 million characters, construct a 99% confidence interval for the mean number of characters printed before failure"
   ]
  },
  {
   "cell_type": "code",
   "execution_count": 24,
   "id": "367150f0",
   "metadata": {},
   "outputs": [],
   "source": [
    "population_std = 0.2"
   ]
  },
  {
   "cell_type": "code",
   "execution_count": 25,
   "id": "d9482408",
   "metadata": {},
   "outputs": [],
   "source": [
    "margin_of_error_known_std = t_critical * (population_std / np.sqrt(n))"
   ]
  },
  {
   "cell_type": "code",
   "execution_count": 26,
   "id": "c2e0c8e3",
   "metadata": {},
   "outputs": [
    {
     "data": {
      "text/plain": [
       "0.15372349777995847"
      ]
     },
     "execution_count": 26,
     "metadata": {},
     "output_type": "execute_result"
    }
   ],
   "source": [
    "margin_of_error_known_std"
   ]
  },
  {
   "cell_type": "code",
   "execution_count": 27,
   "id": "380948af",
   "metadata": {},
   "outputs": [],
   "source": [
    "confidence_interval_known_std = (sample_mean - margin_of_error_known_std, sample_mean + margin_of_error_known_std)"
   ]
  },
  {
   "cell_type": "code",
   "execution_count": 28,
   "id": "ddd3556e",
   "metadata": {},
   "outputs": [
    {
     "data": {
      "text/plain": [
       "(1.0849431688867082, 1.392390164446625)"
      ]
     },
     "execution_count": 28,
     "metadata": {},
     "output_type": "execute_result"
    }
   ],
   "source": [
    "confidence_interval_known_std"
   ]
  },
  {
   "cell_type": "code",
   "execution_count": 29,
   "id": "03b212b6",
   "metadata": {},
   "outputs": [
    {
     "name": "stdout",
     "output_type": "stream",
     "text": [
      "\n",
      "99% Confidence Interval using Known Population Standard Deviation:\n",
      "Lower Bound: 1.0849431688867082\n",
      "Upper Bound: 1.392390164446625\n"
     ]
    }
   ],
   "source": [
    "print(\"\\n99% Confidence Interval using Known Population Standard Deviation:\")\n",
    "print(\"Lower Bound:\", confidence_interval_known_std[0])\n",
    "print(\"Upper Bound:\", confidence_interval_known_std[1])"
   ]
  },
  {
   "cell_type": "code",
   "execution_count": null,
   "id": "1f5ebbf7",
   "metadata": {},
   "outputs": [],
   "source": []
  }
 ],
 "metadata": {
  "kernelspec": {
   "display_name": "Python 3",
   "language": "python",
   "name": "python3"
  },
  "language_info": {
   "codemirror_mode": {
    "name": "ipython",
    "version": 3
   },
   "file_extension": ".py",
   "mimetype": "text/x-python",
   "name": "python",
   "nbconvert_exporter": "python",
   "pygments_lexer": "ipython3",
   "version": "3.8.5"
  }
 },
 "nbformat": 4,
 "nbformat_minor": 5
}
