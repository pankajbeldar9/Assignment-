{
 "cells": [
  {
   "cell_type": "markdown",
   "id": "5469b89f",
   "metadata": {},
   "source": [
    "### 1. Data Exploration and Preprocessing"
   ]
  },
  {
   "cell_type": "code",
   "execution_count": 1,
   "id": "00eed919",
   "metadata": {},
   "outputs": [],
   "source": [
    "import pandas as pd\n",
    "import numpy as np\n",
    "from sklearn.model_selection import train_test_split\n",
    "from sklearn.preprocessing import StandardScaler\n",
    "import matplotlib.pyplot as plt\n",
    "import seaborn as sns\n",
    "import warnings\n",
    "warnings.filterwarnings('ignore')"
   ]
  },
  {
   "cell_type": "code",
   "execution_count": 2,
   "id": "616fe401",
   "metadata": {},
   "outputs": [],
   "source": [
    "# Load the dataset\n",
    "data = pd.read_csv('Alphabets_data.csv')"
   ]
  },
  {
   "cell_type": "code",
   "execution_count": 3,
   "id": "58f0a521",
   "metadata": {},
   "outputs": [
    {
     "name": "stdout",
     "output_type": "stream",
     "text": [
      "  letter  xbox  ybox  width  height  onpix  xbar  ybar  x2bar  y2bar  xybar  \\\n",
      "0      T     2     8      3       5      1     8    13      0      6      6   \n",
      "1      I     5    12      3       7      2    10     5      5      4     13   \n",
      "2      D     4    11      6       8      6    10     6      2      6     10   \n",
      "3      N     7    11      6       6      3     5     9      4      6      4   \n",
      "4      G     2     1      3       1      1     8     6      6      6      6   \n",
      "\n",
      "   x2ybar  xy2bar  xedge  xedgey  yedge  yedgex  \n",
      "0      10       8      0       8      0       8  \n",
      "1       3       9      2       8      4      10  \n",
      "2       3       7      3       7      3       9  \n",
      "3       4      10      6      10      2       8  \n",
      "4       5       9      1       7      5      10  \n"
     ]
    }
   ],
   "source": [
    "# Display the first few rows of the dataset\n",
    "print(data.head())"
   ]
  },
  {
   "cell_type": "code",
   "execution_count": 4,
   "id": "fd1eeffe",
   "metadata": {},
   "outputs": [
    {
     "name": "stdout",
     "output_type": "stream",
     "text": [
      "<class 'pandas.core.frame.DataFrame'>\n",
      "RangeIndex: 20000 entries, 0 to 19999\n",
      "Data columns (total 17 columns):\n",
      " #   Column  Non-Null Count  Dtype \n",
      "---  ------  --------------  ----- \n",
      " 0   letter  20000 non-null  object\n",
      " 1   xbox    20000 non-null  int64 \n",
      " 2   ybox    20000 non-null  int64 \n",
      " 3   width   20000 non-null  int64 \n",
      " 4   height  20000 non-null  int64 \n",
      " 5   onpix   20000 non-null  int64 \n",
      " 6   xbar    20000 non-null  int64 \n",
      " 7   ybar    20000 non-null  int64 \n",
      " 8   x2bar   20000 non-null  int64 \n",
      " 9   y2bar   20000 non-null  int64 \n",
      " 10  xybar   20000 non-null  int64 \n",
      " 11  x2ybar  20000 non-null  int64 \n",
      " 12  xy2bar  20000 non-null  int64 \n",
      " 13  xedge   20000 non-null  int64 \n",
      " 14  xedgey  20000 non-null  int64 \n",
      " 15  yedge   20000 non-null  int64 \n",
      " 16  yedgex  20000 non-null  int64 \n",
      "dtypes: int64(16), object(1)\n",
      "memory usage: 2.6+ MB\n",
      "None\n",
      "               xbox          ybox         width       height         onpix  \\\n",
      "count  20000.000000  20000.000000  20000.000000  20000.00000  20000.000000   \n",
      "mean       4.023550      7.035500      5.121850      5.37245      3.505850   \n",
      "std        1.913212      3.304555      2.014573      2.26139      2.190458   \n",
      "min        0.000000      0.000000      0.000000      0.00000      0.000000   \n",
      "25%        3.000000      5.000000      4.000000      4.00000      2.000000   \n",
      "50%        4.000000      7.000000      5.000000      6.00000      3.000000   \n",
      "75%        5.000000      9.000000      6.000000      7.00000      5.000000   \n",
      "max       15.000000     15.000000     15.000000     15.00000     15.000000   \n",
      "\n",
      "               xbar          ybar         x2bar         y2bar         xybar  \\\n",
      "count  20000.000000  20000.000000  20000.000000  20000.000000  20000.000000   \n",
      "mean       6.897600      7.500450      4.628600      5.178650      8.282050   \n",
      "std        2.026035      2.325354      2.699968      2.380823      2.488475   \n",
      "min        0.000000      0.000000      0.000000      0.000000      0.000000   \n",
      "25%        6.000000      6.000000      3.000000      4.000000      7.000000   \n",
      "50%        7.000000      7.000000      4.000000      5.000000      8.000000   \n",
      "75%        8.000000      9.000000      6.000000      7.000000     10.000000   \n",
      "max       15.000000     15.000000     15.000000     15.000000     15.000000   \n",
      "\n",
      "            x2ybar        xy2bar         xedge        xedgey         yedge  \\\n",
      "count  20000.00000  20000.000000  20000.000000  20000.000000  20000.000000   \n",
      "mean       6.45400      7.929000      3.046100      8.338850      3.691750   \n",
      "std        2.63107      2.080619      2.332541      1.546722      2.567073   \n",
      "min        0.00000      0.000000      0.000000      0.000000      0.000000   \n",
      "25%        5.00000      7.000000      1.000000      8.000000      2.000000   \n",
      "50%        6.00000      8.000000      3.000000      8.000000      3.000000   \n",
      "75%        8.00000      9.000000      4.000000      9.000000      5.000000   \n",
      "max       15.00000     15.000000     15.000000     15.000000     15.000000   \n",
      "\n",
      "            yedgex  \n",
      "count  20000.00000  \n",
      "mean       7.80120  \n",
      "std        1.61747  \n",
      "min        0.00000  \n",
      "25%        7.00000  \n",
      "50%        8.00000  \n",
      "75%        9.00000  \n",
      "max       15.00000  \n"
     ]
    }
   ],
   "source": [
    "# Summary of the dataset\n",
    "print(data.info())\n",
    "print(data.describe())"
   ]
  },
  {
   "cell_type": "code",
   "execution_count": 5,
   "id": "3665a93d",
   "metadata": {},
   "outputs": [
    {
     "name": "stdout",
     "output_type": "stream",
     "text": [
      "letter    0\n",
      "xbox      0\n",
      "ybox      0\n",
      "width     0\n",
      "height    0\n",
      "onpix     0\n",
      "xbar      0\n",
      "ybar      0\n",
      "x2bar     0\n",
      "y2bar     0\n",
      "xybar     0\n",
      "x2ybar    0\n",
      "xy2bar    0\n",
      "xedge     0\n",
      "xedgey    0\n",
      "yedge     0\n",
      "yedgex    0\n",
      "dtype: int64\n"
     ]
    }
   ],
   "source": [
    "# Check for missing values\n",
    "print(data.isnull().sum())"
   ]
  },
  {
   "cell_type": "code",
   "execution_count": 6,
   "id": "28b2d12c",
   "metadata": {},
   "outputs": [],
   "source": [
    "# Assuming the first column is the target variable and others are features\n",
    "X = data.iloc[:, 1:].values\n",
    "y = data.iloc[:, 0].values"
   ]
  },
  {
   "cell_type": "code",
   "execution_count": 7,
   "id": "d3974f7e",
   "metadata": {},
   "outputs": [
    {
     "data": {
      "text/plain": [
       "array([[ 2,  8,  3, ...,  8,  0,  8],\n",
       "       [ 5, 12,  3, ...,  8,  4, 10],\n",
       "       [ 4, 11,  6, ...,  7,  3,  9],\n",
       "       ...,\n",
       "       [ 6,  9,  6, ..., 12,  2,  4],\n",
       "       [ 2,  3,  4, ...,  9,  5,  8],\n",
       "       [ 4,  9,  6, ...,  7,  2,  8]], dtype=int64)"
      ]
     },
     "execution_count": 7,
     "metadata": {},
     "output_type": "execute_result"
    }
   ],
   "source": [
    "X"
   ]
  },
  {
   "cell_type": "code",
   "execution_count": 8,
   "id": "db994081",
   "metadata": {},
   "outputs": [
    {
     "data": {
      "text/plain": [
       "array(['T', 'I', 'D', ..., 'T', 'S', 'A'], dtype=object)"
      ]
     },
     "execution_count": 8,
     "metadata": {},
     "output_type": "execute_result"
    }
   ],
   "source": [
    "y"
   ]
  },
  {
   "cell_type": "code",
   "execution_count": 9,
   "id": "9aea84a2",
   "metadata": {},
   "outputs": [],
   "source": [
    "# Normalize the data\n",
    "scaler = StandardScaler()\n",
    "X = scaler.fit_transform(X)"
   ]
  },
  {
   "cell_type": "code",
   "execution_count": 10,
   "id": "9f3c0a59",
   "metadata": {},
   "outputs": [],
   "source": [
    "from sklearn.preprocessing import LabelEncoder\n",
    "\n",
    "label_encoder = LabelEncoder()\n",
    "y = label_encoder.fit_transform(y)"
   ]
  },
  {
   "cell_type": "markdown",
   "id": "de9e6b9d",
   "metadata": {},
   "source": [
    "### 2. Model Implementation"
   ]
  },
  {
   "cell_type": "code",
   "execution_count": 11,
   "id": "0e6f150a",
   "metadata": {},
   "outputs": [],
   "source": [
    "import tensorflow as tf\n",
    "from tensorflow.keras.models import Sequential\n",
    "from tensorflow.keras.layers import Dense\n",
    "from sklearn.metrics import accuracy_score, precision_score, recall_score, f1_score"
   ]
  },
  {
   "cell_type": "code",
   "execution_count": 12,
   "id": "09c23397",
   "metadata": {},
   "outputs": [],
   "source": [
    "# Split the data into training and test sets\n",
    "X_train, X_test, y_train, y_test = train_test_split(X, y, test_size=0.2, random_state=42)"
   ]
  },
  {
   "cell_type": "code",
   "execution_count": 13,
   "id": "55681711",
   "metadata": {},
   "outputs": [],
   "source": [
    "# Define a basic ANN model\n",
    "model = Sequential()\n",
    "model.add(Dense(64, input_dim=X_train.shape[1], activation='relu'))\n",
    "model.add(Dense(32, activation='relu'))\n",
    "model.add(Dense(len(np.unique(y)), activation='softmax'))"
   ]
  },
  {
   "cell_type": "code",
   "execution_count": 14,
   "id": "3259a15d",
   "metadata": {},
   "outputs": [],
   "source": [
    "# Compile the model\n",
    "model.compile(loss='sparse_categorical_crossentropy', optimizer='adam', metrics=['accuracy'])"
   ]
  },
  {
   "cell_type": "code",
   "execution_count": 15,
   "id": "34b2c38f",
   "metadata": {},
   "outputs": [
    {
     "name": "stdout",
     "output_type": "stream",
     "text": [
      "Epoch 1/50\n",
      "1600/1600 [==============================] - 7s 3ms/step - loss: 1.3824 - accuracy: 0.6144 - val_loss: 0.7721 - val_accuracy: 0.7860\n",
      "Epoch 2/50\n",
      "1600/1600 [==============================] - 5s 3ms/step - loss: 0.6557 - accuracy: 0.8058 - val_loss: 0.5711 - val_accuracy: 0.8285\n",
      "Epoch 3/50\n",
      "1600/1600 [==============================] - 6s 3ms/step - loss: 0.5065 - accuracy: 0.8486 - val_loss: 0.4695 - val_accuracy: 0.8637\n",
      "Epoch 4/50\n",
      "1600/1600 [==============================] - 5s 3ms/step - loss: 0.4200 - accuracy: 0.8712 - val_loss: 0.3957 - val_accuracy: 0.8840\n",
      "Epoch 5/50\n",
      "1600/1600 [==============================] - 5s 3ms/step - loss: 0.3609 - accuracy: 0.8901 - val_loss: 0.3539 - val_accuracy: 0.8903\n",
      "Epoch 6/50\n",
      "1600/1600 [==============================] - 5s 3ms/step - loss: 0.3168 - accuracy: 0.9034 - val_loss: 0.3232 - val_accuracy: 0.9020\n",
      "Epoch 7/50\n",
      "1600/1600 [==============================] - 5s 3ms/step - loss: 0.2811 - accuracy: 0.9121 - val_loss: 0.2977 - val_accuracy: 0.9118\n",
      "Epoch 8/50\n",
      "1600/1600 [==============================] - 5s 3ms/step - loss: 0.2553 - accuracy: 0.9210 - val_loss: 0.2789 - val_accuracy: 0.9130\n",
      "Epoch 9/50\n",
      "1600/1600 [==============================] - 5s 3ms/step - loss: 0.2314 - accuracy: 0.9280 - val_loss: 0.2630 - val_accuracy: 0.9197\n",
      "Epoch 10/50\n",
      "1600/1600 [==============================] - 5s 3ms/step - loss: 0.2149 - accuracy: 0.9311 - val_loss: 0.2424 - val_accuracy: 0.9250\n",
      "Epoch 11/50\n",
      "1600/1600 [==============================] - 5s 3ms/step - loss: 0.2004 - accuracy: 0.9368 - val_loss: 0.2402 - val_accuracy: 0.9218\n",
      "Epoch 12/50\n",
      "1600/1600 [==============================] - 5s 3ms/step - loss: 0.1861 - accuracy: 0.9397 - val_loss: 0.2294 - val_accuracy: 0.9323\n",
      "Epoch 13/50\n",
      "1600/1600 [==============================] - 5s 3ms/step - loss: 0.1776 - accuracy: 0.9421 - val_loss: 0.2244 - val_accuracy: 0.9333\n",
      "Epoch 14/50\n",
      "1600/1600 [==============================] - 5s 3ms/step - loss: 0.1656 - accuracy: 0.9488 - val_loss: 0.2065 - val_accuracy: 0.9340\n",
      "Epoch 15/50\n",
      "1600/1600 [==============================] - 5s 3ms/step - loss: 0.1582 - accuracy: 0.9500 - val_loss: 0.2106 - val_accuracy: 0.9320\n",
      "Epoch 16/50\n",
      "1600/1600 [==============================] - 5s 3ms/step - loss: 0.1499 - accuracy: 0.9532 - val_loss: 0.2122 - val_accuracy: 0.9283\n",
      "Epoch 17/50\n",
      "1600/1600 [==============================] - 5s 3ms/step - loss: 0.1443 - accuracy: 0.9529 - val_loss: 0.1941 - val_accuracy: 0.9380\n",
      "Epoch 18/50\n",
      "1600/1600 [==============================] - 5s 3ms/step - loss: 0.1374 - accuracy: 0.9546 - val_loss: 0.1822 - val_accuracy: 0.9423\n",
      "Epoch 19/50\n",
      "1600/1600 [==============================] - 5s 3ms/step - loss: 0.1309 - accuracy: 0.9567 - val_loss: 0.2075 - val_accuracy: 0.9350\n",
      "Epoch 20/50\n",
      "1600/1600 [==============================] - 5s 3ms/step - loss: 0.1265 - accuracy: 0.9598 - val_loss: 0.1909 - val_accuracy: 0.9398\n",
      "Epoch 21/50\n",
      "1600/1600 [==============================] - 5s 3ms/step - loss: 0.1229 - accuracy: 0.9611 - val_loss: 0.2034 - val_accuracy: 0.9390\n",
      "Epoch 22/50\n",
      "1600/1600 [==============================] - 5s 3ms/step - loss: 0.1207 - accuracy: 0.9596 - val_loss: 0.1886 - val_accuracy: 0.9390\n",
      "Epoch 23/50\n",
      "1600/1600 [==============================] - 5s 3ms/step - loss: 0.1135 - accuracy: 0.9624 - val_loss: 0.1937 - val_accuracy: 0.9370\n",
      "Epoch 24/50\n",
      "1600/1600 [==============================] - 5s 3ms/step - loss: 0.1114 - accuracy: 0.9641 - val_loss: 0.1852 - val_accuracy: 0.9448\n",
      "Epoch 25/50\n",
      "1600/1600 [==============================] - 5s 3ms/step - loss: 0.1073 - accuracy: 0.9632 - val_loss: 0.1788 - val_accuracy: 0.9430\n",
      "Epoch 26/50\n",
      "1600/1600 [==============================] - 5s 3ms/step - loss: 0.1050 - accuracy: 0.9669 - val_loss: 0.1786 - val_accuracy: 0.9442\n",
      "Epoch 27/50\n",
      "1600/1600 [==============================] - 5s 3ms/step - loss: 0.1022 - accuracy: 0.9662 - val_loss: 0.1774 - val_accuracy: 0.9445\n",
      "Epoch 28/50\n",
      "1600/1600 [==============================] - 5s 3ms/step - loss: 0.0994 - accuracy: 0.9661 - val_loss: 0.1769 - val_accuracy: 0.9435\n",
      "Epoch 29/50\n",
      "1600/1600 [==============================] - 5s 3ms/step - loss: 0.0933 - accuracy: 0.9697 - val_loss: 0.1891 - val_accuracy: 0.9433\n",
      "Epoch 30/50\n",
      "1600/1600 [==============================] - 5s 3ms/step - loss: 0.0938 - accuracy: 0.9690 - val_loss: 0.1882 - val_accuracy: 0.9410\n",
      "Epoch 31/50\n",
      "1600/1600 [==============================] - 5s 3ms/step - loss: 0.0912 - accuracy: 0.9692 - val_loss: 0.1697 - val_accuracy: 0.9492\n",
      "Epoch 32/50\n",
      "1600/1600 [==============================] - 5s 3ms/step - loss: 0.0868 - accuracy: 0.9709 - val_loss: 0.1771 - val_accuracy: 0.9442\n",
      "Epoch 33/50\n",
      "1600/1600 [==============================] - 5s 3ms/step - loss: 0.0838 - accuracy: 0.9717 - val_loss: 0.1790 - val_accuracy: 0.9480\n",
      "Epoch 34/50\n",
      "1600/1600 [==============================] - 5s 3ms/step - loss: 0.0841 - accuracy: 0.9711 - val_loss: 0.1737 - val_accuracy: 0.9473\n",
      "Epoch 35/50\n",
      "1600/1600 [==============================] - 5s 3ms/step - loss: 0.0818 - accuracy: 0.9727 - val_loss: 0.1958 - val_accuracy: 0.9423\n",
      "Epoch 36/50\n",
      "1600/1600 [==============================] - 5s 3ms/step - loss: 0.0761 - accuracy: 0.9746 - val_loss: 0.1886 - val_accuracy: 0.9470\n",
      "Epoch 37/50\n",
      "1600/1600 [==============================] - 5s 3ms/step - loss: 0.0771 - accuracy: 0.9751 - val_loss: 0.1865 - val_accuracy: 0.9480\n",
      "Epoch 38/50\n",
      "1600/1600 [==============================] - 5s 3ms/step - loss: 0.0770 - accuracy: 0.9733 - val_loss: 0.1865 - val_accuracy: 0.9427\n",
      "Epoch 39/50\n",
      "1600/1600 [==============================] - 5s 3ms/step - loss: 0.0737 - accuracy: 0.9764 - val_loss: 0.1879 - val_accuracy: 0.9465\n",
      "Epoch 40/50\n",
      "1600/1600 [==============================] - 5s 3ms/step - loss: 0.0723 - accuracy: 0.9758 - val_loss: 0.2006 - val_accuracy: 0.9405\n",
      "Epoch 41/50\n",
      "1600/1600 [==============================] - 5s 3ms/step - loss: 0.0699 - accuracy: 0.9761 - val_loss: 0.1800 - val_accuracy: 0.9495\n",
      "Epoch 42/50\n",
      "1600/1600 [==============================] - 5s 3ms/step - loss: 0.0700 - accuracy: 0.9762 - val_loss: 0.1858 - val_accuracy: 0.9460\n",
      "Epoch 43/50\n",
      "1600/1600 [==============================] - 5s 3ms/step - loss: 0.0688 - accuracy: 0.9769 - val_loss: 0.1841 - val_accuracy: 0.9495\n",
      "Epoch 44/50\n",
      "1600/1600 [==============================] - 5s 3ms/step - loss: 0.0628 - accuracy: 0.9787 - val_loss: 0.1985 - val_accuracy: 0.9448\n",
      "Epoch 45/50\n",
      "1600/1600 [==============================] - 5s 3ms/step - loss: 0.0665 - accuracy: 0.9779 - val_loss: 0.1853 - val_accuracy: 0.9435\n",
      "Epoch 46/50\n",
      "1600/1600 [==============================] - 5s 3ms/step - loss: 0.0606 - accuracy: 0.9809 - val_loss: 0.1855 - val_accuracy: 0.9452\n",
      "Epoch 47/50\n",
      "1600/1600 [==============================] - 5s 3ms/step - loss: 0.0652 - accuracy: 0.9776 - val_loss: 0.1783 - val_accuracy: 0.9513\n",
      "Epoch 48/50\n",
      "1600/1600 [==============================] - 5s 3ms/step - loss: 0.0569 - accuracy: 0.9803 - val_loss: 0.1914 - val_accuracy: 0.9463\n",
      "Epoch 49/50\n",
      "1600/1600 [==============================] - 5s 3ms/step - loss: 0.0591 - accuracy: 0.9788 - val_loss: 0.1885 - val_accuracy: 0.9463\n",
      "Epoch 50/50\n",
      "1600/1600 [==============================] - 5s 3ms/step - loss: 0.0563 - accuracy: 0.9806 - val_loss: 0.1836 - val_accuracy: 0.9505\n"
     ]
    }
   ],
   "source": [
    "# Train the model\n",
    "history = model.fit(X_train, y_train, epochs=50, batch_size=10, validation_data=(X_test, y_test))"
   ]
  },
  {
   "cell_type": "code",
   "execution_count": 16,
   "id": "11f45264",
   "metadata": {},
   "outputs": [
    {
     "name": "stdout",
     "output_type": "stream",
     "text": [
      "125/125 [==============================] - 0s 2ms/step\n"
     ]
    }
   ],
   "source": [
    "# Make predictions\n",
    "y_pred = model.predict(X_test)\n",
    "y_pred_classes = np.argmax(y_pred, axis=1)"
   ]
  },
  {
   "cell_type": "code",
   "execution_count": 17,
   "id": "22024140",
   "metadata": {},
   "outputs": [],
   "source": [
    "# Evaluate the model\n",
    "accuracy = accuracy_score(y_test, y_pred_classes)\n",
    "precision = precision_score(y_test, y_pred_classes, average='weighted')\n",
    "recall = recall_score(y_test, y_pred_classes, average='weighted')\n",
    "f1 = f1_score(y_test, y_pred_classes, average='weighted')"
   ]
  },
  {
   "cell_type": "code",
   "execution_count": 18,
   "id": "5dfb3e3b",
   "metadata": {},
   "outputs": [
    {
     "name": "stdout",
     "output_type": "stream",
     "text": [
      "Accuracy: 0.9505\n",
      "Precision: 0.9510462476598309\n",
      "Recall: 0.9505\n",
      "F1-score: 0.9504940887357464\n"
     ]
    }
   ],
   "source": [
    "print(f'Accuracy: {accuracy}')\n",
    "print(f'Precision: {precision}')\n",
    "print(f'Recall: {recall}')\n",
    "print(f'F1-score: {f1}')"
   ]
  },
  {
   "cell_type": "markdown",
   "id": "f0a4e26d",
   "metadata": {},
   "source": [
    "### 3. Hyperparameter Tuning"
   ]
  },
  {
   "cell_type": "code",
   "execution_count": 19,
   "id": "8cf4ee4c",
   "metadata": {},
   "outputs": [],
   "source": [
    "from sklearn.model_selection import GridSearchCV\n",
    "from keras.wrappers.scikit_learn import KerasClassifier"
   ]
  },
  {
   "cell_type": "code",
   "execution_count": 20,
   "id": "b3666f4a",
   "metadata": {},
   "outputs": [],
   "source": [
    "def create_model(optimizer='adam', activation='relu', neurons=32):\n",
    "    model = Sequential()\n",
    "    model.add(Dense(neurons, input_dim=X_train.shape[1], activation=activation))\n",
    "    model.add(Dense(neurons, activation=activation))\n",
    "    model.add(Dense(len(np.unique(y)), activation='softmax'))\n",
    "    model.compile(loss='sparse_categorical_crossentropy', optimizer=optimizer, metrics=['accuracy'])\n",
    "    return model"
   ]
  },
  {
   "cell_type": "code",
   "execution_count": 21,
   "id": "2c3c6a46",
   "metadata": {},
   "outputs": [],
   "source": [
    "model = KerasClassifier(build_fn=create_model,batch_size=1, verbose=0)"
   ]
  },
  {
   "cell_type": "code",
   "execution_count": 22,
   "id": "524ec597",
   "metadata": {},
   "outputs": [],
   "source": [
    "# Define the grid of hyperparameters\n",
    "param_grid = {\n",
    "    'batch_size': [10, 20],\n",
    "    'epochs': [50, 100],\n",
    "    'optimizer': ['adam', 'rmsprop'],\n",
    "    'activation': ['tanh', 'relu'],\n",
    "    'neurons': [32, 64, 128]\n",
    "}"
   ]
  },
  {
   "cell_type": "code",
   "execution_count": 24,
   "id": "6c76874f",
   "metadata": {},
   "outputs": [
    {
     "name": "stdout",
     "output_type": "stream",
     "text": [
      "Best: 0.9592498342196146 using {'activation': 'tanh', 'batch_size': 20, 'epochs': 100, 'neurons': 128, 'optimizer': 'rmsprop'}\n"
     ]
    }
   ],
   "source": [
    "grid = GridSearchCV(estimator=model, param_grid=param_grid, n_jobs=-1,cv =3)\n",
    "grid_result = grid.fit(X_train, y_train)\n",
    "\n",
    "# Summarize the results\n",
    "print(f'Best: {grid_result.best_score_} using {grid_result.best_params_}')"
   ]
  },
  {
   "cell_type": "markdown",
   "id": "4ee1bcd0",
   "metadata": {},
   "source": [
    "### 4. Evaluation"
   ]
  },
  {
   "cell_type": "code",
   "execution_count": 25,
   "id": "166ea969",
   "metadata": {},
   "outputs": [
    {
     "name": "stdout",
     "output_type": "stream",
     "text": [
      "125/125 [==============================] - 1s 3ms/step\n"
     ]
    }
   ],
   "source": [
    "# Evaluate the tuned model\n",
    "best_model = grid_result.best_estimator_.model\n",
    "y_pred_tuned = best_model.predict(X_test)\n",
    "y_pred_tuned_classes = np.argmax(y_pred_tuned, axis=1)"
   ]
  },
  {
   "cell_type": "code",
   "execution_count": 26,
   "id": "b7699bda",
   "metadata": {},
   "outputs": [],
   "source": [
    "# Evaluate the tuned model\n",
    "accuracy_tuned = accuracy_score(y_test, y_pred_tuned_classes)\n",
    "precision_tuned = precision_score(y_test, y_pred_tuned_classes, average='weighted')\n",
    "recall_tuned = recall_score(y_test, y_pred_tuned_classes, average='weighted')\n",
    "f1_tuned = f1_score(y_test, y_pred_tuned_classes, average='weighted')"
   ]
  },
  {
   "cell_type": "code",
   "execution_count": 27,
   "id": "377b0fe1",
   "metadata": {},
   "outputs": [
    {
     "name": "stdout",
     "output_type": "stream",
     "text": [
      "Tuned Accuracy: 0.96675\n",
      "Tuned Precision: 0.9672041527177688\n",
      "Tuned Recall: 0.96675\n",
      "Tuned F1-score: 0.9667844905173512\n"
     ]
    }
   ],
   "source": [
    "print(f'Tuned Accuracy: {accuracy_tuned}')\n",
    "print(f'Tuned Precision: {precision_tuned}')\n",
    "print(f'Tuned Recall: {recall_tuned}')\n",
    "print(f'Tuned F1-score: {f1_tuned}')"
   ]
  },
  {
   "cell_type": "code",
   "execution_count": null,
   "id": "59edd0d2",
   "metadata": {},
   "outputs": [],
   "source": []
  }
 ],
 "metadata": {
  "kernelspec": {
   "display_name": "Python 3",
   "language": "python",
   "name": "python3"
  },
  "language_info": {
   "codemirror_mode": {
    "name": "ipython",
    "version": 3
   },
   "file_extension": ".py",
   "mimetype": "text/x-python",
   "name": "python",
   "nbconvert_exporter": "python",
   "pygments_lexer": "ipython3",
   "version": "3.8.5"
  }
 },
 "nbformat": 4,
 "nbformat_minor": 5
}
